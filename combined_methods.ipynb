{
  "nbformat": 4,
  "nbformat_minor": 0,
  "metadata": {
    "colab": {
      "name": "combined methods.ipynb",
      "provenance": []
    },
    "kernelspec": {
      "name": "python3",
      "display_name": "Python 3"
    },
    "widgets": {
      "application/vnd.jupyter.widget-state+json": {
        "baa34debe3bc4eea8e582ac2f3fcd349": {
          "model_module": "@jupyter-widgets/controls",
          "model_name": "HBoxModel",
          "state": {
            "_view_name": "HBoxView",
            "_dom_classes": [],
            "_model_name": "HBoxModel",
            "_view_module": "@jupyter-widgets/controls",
            "_model_module_version": "1.5.0",
            "_view_count": null,
            "_view_module_version": "1.5.0",
            "box_style": "",
            "layout": "IPY_MODEL_c9660529c9c14956a0a1a1e1872da47f",
            "_model_module": "@jupyter-widgets/controls",
            "children": [
              "IPY_MODEL_8430b6fa3e194cda983a1302a9be37b3",
              "IPY_MODEL_28086a958a714eaea6ba8f0380f14491"
            ]
          }
        },
        "c9660529c9c14956a0a1a1e1872da47f": {
          "model_module": "@jupyter-widgets/base",
          "model_name": "LayoutModel",
          "state": {
            "_view_name": "LayoutView",
            "grid_template_rows": null,
            "right": null,
            "justify_content": null,
            "_view_module": "@jupyter-widgets/base",
            "overflow": null,
            "_model_module_version": "1.2.0",
            "_view_count": null,
            "flex_flow": null,
            "width": null,
            "min_width": null,
            "border": null,
            "align_items": null,
            "bottom": null,
            "_model_module": "@jupyter-widgets/base",
            "top": null,
            "grid_column": null,
            "overflow_y": null,
            "overflow_x": null,
            "grid_auto_flow": null,
            "grid_area": null,
            "grid_template_columns": null,
            "flex": null,
            "_model_name": "LayoutModel",
            "justify_items": null,
            "grid_row": null,
            "max_height": null,
            "align_content": null,
            "visibility": null,
            "align_self": null,
            "height": null,
            "min_height": null,
            "padding": null,
            "grid_auto_rows": null,
            "grid_gap": null,
            "max_width": null,
            "order": null,
            "_view_module_version": "1.2.0",
            "grid_template_areas": null,
            "object_position": null,
            "object_fit": null,
            "grid_auto_columns": null,
            "margin": null,
            "display": null,
            "left": null
          }
        },
        "8430b6fa3e194cda983a1302a9be37b3": {
          "model_module": "@jupyter-widgets/controls",
          "model_name": "FloatProgressModel",
          "state": {
            "_view_name": "ProgressView",
            "style": "IPY_MODEL_3223c089633f41c4a5c7990c3781fa7e",
            "_dom_classes": [],
            "description": "",
            "_model_name": "FloatProgressModel",
            "bar_style": "info",
            "max": 1,
            "_view_module": "@jupyter-widgets/controls",
            "_model_module_version": "1.5.0",
            "value": 1,
            "_view_count": null,
            "_view_module_version": "1.5.0",
            "orientation": "horizontal",
            "min": 0,
            "description_tooltip": null,
            "_model_module": "@jupyter-widgets/controls",
            "layout": "IPY_MODEL_ee171d3ba03842abb071bb3df7d1c285"
          }
        },
        "28086a958a714eaea6ba8f0380f14491": {
          "model_module": "@jupyter-widgets/controls",
          "model_name": "HTMLModel",
          "state": {
            "_view_name": "HTMLView",
            "style": "IPY_MODEL_1355ac599453429d8fa69686a31343fd",
            "_dom_classes": [],
            "description": "",
            "_model_name": "HTMLModel",
            "placeholder": "​",
            "_view_module": "@jupyter-widgets/controls",
            "_model_module_version": "1.5.0",
            "value": " 9920512/? [00:20&lt;00:00, 10320797.93it/s]",
            "_view_count": null,
            "_view_module_version": "1.5.0",
            "description_tooltip": null,
            "_model_module": "@jupyter-widgets/controls",
            "layout": "IPY_MODEL_a6d1cd1e06e74539afc12c9496334ffe"
          }
        },
        "3223c089633f41c4a5c7990c3781fa7e": {
          "model_module": "@jupyter-widgets/controls",
          "model_name": "ProgressStyleModel",
          "state": {
            "_view_name": "StyleView",
            "_model_name": "ProgressStyleModel",
            "description_width": "initial",
            "_view_module": "@jupyter-widgets/base",
            "_model_module_version": "1.5.0",
            "_view_count": null,
            "_view_module_version": "1.2.0",
            "bar_color": null,
            "_model_module": "@jupyter-widgets/controls"
          }
        },
        "ee171d3ba03842abb071bb3df7d1c285": {
          "model_module": "@jupyter-widgets/base",
          "model_name": "LayoutModel",
          "state": {
            "_view_name": "LayoutView",
            "grid_template_rows": null,
            "right": null,
            "justify_content": null,
            "_view_module": "@jupyter-widgets/base",
            "overflow": null,
            "_model_module_version": "1.2.0",
            "_view_count": null,
            "flex_flow": null,
            "width": null,
            "min_width": null,
            "border": null,
            "align_items": null,
            "bottom": null,
            "_model_module": "@jupyter-widgets/base",
            "top": null,
            "grid_column": null,
            "overflow_y": null,
            "overflow_x": null,
            "grid_auto_flow": null,
            "grid_area": null,
            "grid_template_columns": null,
            "flex": null,
            "_model_name": "LayoutModel",
            "justify_items": null,
            "grid_row": null,
            "max_height": null,
            "align_content": null,
            "visibility": null,
            "align_self": null,
            "height": null,
            "min_height": null,
            "padding": null,
            "grid_auto_rows": null,
            "grid_gap": null,
            "max_width": null,
            "order": null,
            "_view_module_version": "1.2.0",
            "grid_template_areas": null,
            "object_position": null,
            "object_fit": null,
            "grid_auto_columns": null,
            "margin": null,
            "display": null,
            "left": null
          }
        },
        "1355ac599453429d8fa69686a31343fd": {
          "model_module": "@jupyter-widgets/controls",
          "model_name": "DescriptionStyleModel",
          "state": {
            "_view_name": "StyleView",
            "_model_name": "DescriptionStyleModel",
            "description_width": "",
            "_view_module": "@jupyter-widgets/base",
            "_model_module_version": "1.5.0",
            "_view_count": null,
            "_view_module_version": "1.2.0",
            "_model_module": "@jupyter-widgets/controls"
          }
        },
        "a6d1cd1e06e74539afc12c9496334ffe": {
          "model_module": "@jupyter-widgets/base",
          "model_name": "LayoutModel",
          "state": {
            "_view_name": "LayoutView",
            "grid_template_rows": null,
            "right": null,
            "justify_content": null,
            "_view_module": "@jupyter-widgets/base",
            "overflow": null,
            "_model_module_version": "1.2.0",
            "_view_count": null,
            "flex_flow": null,
            "width": null,
            "min_width": null,
            "border": null,
            "align_items": null,
            "bottom": null,
            "_model_module": "@jupyter-widgets/base",
            "top": null,
            "grid_column": null,
            "overflow_y": null,
            "overflow_x": null,
            "grid_auto_flow": null,
            "grid_area": null,
            "grid_template_columns": null,
            "flex": null,
            "_model_name": "LayoutModel",
            "justify_items": null,
            "grid_row": null,
            "max_height": null,
            "align_content": null,
            "visibility": null,
            "align_self": null,
            "height": null,
            "min_height": null,
            "padding": null,
            "grid_auto_rows": null,
            "grid_gap": null,
            "max_width": null,
            "order": null,
            "_view_module_version": "1.2.0",
            "grid_template_areas": null,
            "object_position": null,
            "object_fit": null,
            "grid_auto_columns": null,
            "margin": null,
            "display": null,
            "left": null
          }
        },
        "ff148d6c0e354a40b1976aaaaf447726": {
          "model_module": "@jupyter-widgets/controls",
          "model_name": "HBoxModel",
          "state": {
            "_view_name": "HBoxView",
            "_dom_classes": [],
            "_model_name": "HBoxModel",
            "_view_module": "@jupyter-widgets/controls",
            "_model_module_version": "1.5.0",
            "_view_count": null,
            "_view_module_version": "1.5.0",
            "box_style": "",
            "layout": "IPY_MODEL_b792cdf5c31e494f95fe4de8adee2e90",
            "_model_module": "@jupyter-widgets/controls",
            "children": [
              "IPY_MODEL_104aa84d4f35423ea6d3c20cb79222dc",
              "IPY_MODEL_a80ced0e99b74ee8aaf1d1264a4cbaee"
            ]
          }
        },
        "b792cdf5c31e494f95fe4de8adee2e90": {
          "model_module": "@jupyter-widgets/base",
          "model_name": "LayoutModel",
          "state": {
            "_view_name": "LayoutView",
            "grid_template_rows": null,
            "right": null,
            "justify_content": null,
            "_view_module": "@jupyter-widgets/base",
            "overflow": null,
            "_model_module_version": "1.2.0",
            "_view_count": null,
            "flex_flow": null,
            "width": null,
            "min_width": null,
            "border": null,
            "align_items": null,
            "bottom": null,
            "_model_module": "@jupyter-widgets/base",
            "top": null,
            "grid_column": null,
            "overflow_y": null,
            "overflow_x": null,
            "grid_auto_flow": null,
            "grid_area": null,
            "grid_template_columns": null,
            "flex": null,
            "_model_name": "LayoutModel",
            "justify_items": null,
            "grid_row": null,
            "max_height": null,
            "align_content": null,
            "visibility": null,
            "align_self": null,
            "height": null,
            "min_height": null,
            "padding": null,
            "grid_auto_rows": null,
            "grid_gap": null,
            "max_width": null,
            "order": null,
            "_view_module_version": "1.2.0",
            "grid_template_areas": null,
            "object_position": null,
            "object_fit": null,
            "grid_auto_columns": null,
            "margin": null,
            "display": null,
            "left": null
          }
        },
        "104aa84d4f35423ea6d3c20cb79222dc": {
          "model_module": "@jupyter-widgets/controls",
          "model_name": "FloatProgressModel",
          "state": {
            "_view_name": "ProgressView",
            "style": "IPY_MODEL_81ff77b8195d40249dc379ca73b98bbb",
            "_dom_classes": [],
            "description": "",
            "_model_name": "FloatProgressModel",
            "bar_style": "info",
            "max": 1,
            "_view_module": "@jupyter-widgets/controls",
            "_model_module_version": "1.5.0",
            "value": 0,
            "_view_count": null,
            "_view_module_version": "1.5.0",
            "orientation": "horizontal",
            "min": 0,
            "description_tooltip": null,
            "_model_module": "@jupyter-widgets/controls",
            "layout": "IPY_MODEL_48029ecbf1694a84b88f3f1e27e57aee"
          }
        },
        "a80ced0e99b74ee8aaf1d1264a4cbaee": {
          "model_module": "@jupyter-widgets/controls",
          "model_name": "HTMLModel",
          "state": {
            "_view_name": "HTMLView",
            "style": "IPY_MODEL_e37be1ffab2843128d1b0462d170e6df",
            "_dom_classes": [],
            "description": "",
            "_model_name": "HTMLModel",
            "placeholder": "​",
            "_view_module": "@jupyter-widgets/controls",
            "_model_module_version": "1.5.0",
            "value": " 0/? [00:00&lt;?, ?it/s]",
            "_view_count": null,
            "_view_module_version": "1.5.0",
            "description_tooltip": null,
            "_model_module": "@jupyter-widgets/controls",
            "layout": "IPY_MODEL_f0f8c58480924aafa74650ef7ee254e3"
          }
        },
        "81ff77b8195d40249dc379ca73b98bbb": {
          "model_module": "@jupyter-widgets/controls",
          "model_name": "ProgressStyleModel",
          "state": {
            "_view_name": "StyleView",
            "_model_name": "ProgressStyleModel",
            "description_width": "initial",
            "_view_module": "@jupyter-widgets/base",
            "_model_module_version": "1.5.0",
            "_view_count": null,
            "_view_module_version": "1.2.0",
            "bar_color": null,
            "_model_module": "@jupyter-widgets/controls"
          }
        },
        "48029ecbf1694a84b88f3f1e27e57aee": {
          "model_module": "@jupyter-widgets/base",
          "model_name": "LayoutModel",
          "state": {
            "_view_name": "LayoutView",
            "grid_template_rows": null,
            "right": null,
            "justify_content": null,
            "_view_module": "@jupyter-widgets/base",
            "overflow": null,
            "_model_module_version": "1.2.0",
            "_view_count": null,
            "flex_flow": null,
            "width": null,
            "min_width": null,
            "border": null,
            "align_items": null,
            "bottom": null,
            "_model_module": "@jupyter-widgets/base",
            "top": null,
            "grid_column": null,
            "overflow_y": null,
            "overflow_x": null,
            "grid_auto_flow": null,
            "grid_area": null,
            "grid_template_columns": null,
            "flex": null,
            "_model_name": "LayoutModel",
            "justify_items": null,
            "grid_row": null,
            "max_height": null,
            "align_content": null,
            "visibility": null,
            "align_self": null,
            "height": null,
            "min_height": null,
            "padding": null,
            "grid_auto_rows": null,
            "grid_gap": null,
            "max_width": null,
            "order": null,
            "_view_module_version": "1.2.0",
            "grid_template_areas": null,
            "object_position": null,
            "object_fit": null,
            "grid_auto_columns": null,
            "margin": null,
            "display": null,
            "left": null
          }
        },
        "e37be1ffab2843128d1b0462d170e6df": {
          "model_module": "@jupyter-widgets/controls",
          "model_name": "DescriptionStyleModel",
          "state": {
            "_view_name": "StyleView",
            "_model_name": "DescriptionStyleModel",
            "description_width": "",
            "_view_module": "@jupyter-widgets/base",
            "_model_module_version": "1.5.0",
            "_view_count": null,
            "_view_module_version": "1.2.0",
            "_model_module": "@jupyter-widgets/controls"
          }
        },
        "f0f8c58480924aafa74650ef7ee254e3": {
          "model_module": "@jupyter-widgets/base",
          "model_name": "LayoutModel",
          "state": {
            "_view_name": "LayoutView",
            "grid_template_rows": null,
            "right": null,
            "justify_content": null,
            "_view_module": "@jupyter-widgets/base",
            "overflow": null,
            "_model_module_version": "1.2.0",
            "_view_count": null,
            "flex_flow": null,
            "width": null,
            "min_width": null,
            "border": null,
            "align_items": null,
            "bottom": null,
            "_model_module": "@jupyter-widgets/base",
            "top": null,
            "grid_column": null,
            "overflow_y": null,
            "overflow_x": null,
            "grid_auto_flow": null,
            "grid_area": null,
            "grid_template_columns": null,
            "flex": null,
            "_model_name": "LayoutModel",
            "justify_items": null,
            "grid_row": null,
            "max_height": null,
            "align_content": null,
            "visibility": null,
            "align_self": null,
            "height": null,
            "min_height": null,
            "padding": null,
            "grid_auto_rows": null,
            "grid_gap": null,
            "max_width": null,
            "order": null,
            "_view_module_version": "1.2.0",
            "grid_template_areas": null,
            "object_position": null,
            "object_fit": null,
            "grid_auto_columns": null,
            "margin": null,
            "display": null,
            "left": null
          }
        },
        "9a36995af4854cb99c4a9dc01b96057e": {
          "model_module": "@jupyter-widgets/controls",
          "model_name": "HBoxModel",
          "state": {
            "_view_name": "HBoxView",
            "_dom_classes": [],
            "_model_name": "HBoxModel",
            "_view_module": "@jupyter-widgets/controls",
            "_model_module_version": "1.5.0",
            "_view_count": null,
            "_view_module_version": "1.5.0",
            "box_style": "",
            "layout": "IPY_MODEL_c03b130e80b74c3ab75c88cee740bcc0",
            "_model_module": "@jupyter-widgets/controls",
            "children": [
              "IPY_MODEL_05c08c3ef2d94455b7d10a0454d35ecd",
              "IPY_MODEL_4fbc637d2c864acb9dadc3b101730ac3"
            ]
          }
        },
        "c03b130e80b74c3ab75c88cee740bcc0": {
          "model_module": "@jupyter-widgets/base",
          "model_name": "LayoutModel",
          "state": {
            "_view_name": "LayoutView",
            "grid_template_rows": null,
            "right": null,
            "justify_content": null,
            "_view_module": "@jupyter-widgets/base",
            "overflow": null,
            "_model_module_version": "1.2.0",
            "_view_count": null,
            "flex_flow": null,
            "width": null,
            "min_width": null,
            "border": null,
            "align_items": null,
            "bottom": null,
            "_model_module": "@jupyter-widgets/base",
            "top": null,
            "grid_column": null,
            "overflow_y": null,
            "overflow_x": null,
            "grid_auto_flow": null,
            "grid_area": null,
            "grid_template_columns": null,
            "flex": null,
            "_model_name": "LayoutModel",
            "justify_items": null,
            "grid_row": null,
            "max_height": null,
            "align_content": null,
            "visibility": null,
            "align_self": null,
            "height": null,
            "min_height": null,
            "padding": null,
            "grid_auto_rows": null,
            "grid_gap": null,
            "max_width": null,
            "order": null,
            "_view_module_version": "1.2.0",
            "grid_template_areas": null,
            "object_position": null,
            "object_fit": null,
            "grid_auto_columns": null,
            "margin": null,
            "display": null,
            "left": null
          }
        },
        "05c08c3ef2d94455b7d10a0454d35ecd": {
          "model_module": "@jupyter-widgets/controls",
          "model_name": "FloatProgressModel",
          "state": {
            "_view_name": "ProgressView",
            "style": "IPY_MODEL_8351957f62d4470bafa47837ee2ed25b",
            "_dom_classes": [],
            "description": "",
            "_model_name": "FloatProgressModel",
            "bar_style": "success",
            "max": 1,
            "_view_module": "@jupyter-widgets/controls",
            "_model_module_version": "1.5.0",
            "value": 1,
            "_view_count": null,
            "_view_module_version": "1.5.0",
            "orientation": "horizontal",
            "min": 0,
            "description_tooltip": null,
            "_model_module": "@jupyter-widgets/controls",
            "layout": "IPY_MODEL_97dddbcab4614a57810e59bb1ed9a7f0"
          }
        },
        "4fbc637d2c864acb9dadc3b101730ac3": {
          "model_module": "@jupyter-widgets/controls",
          "model_name": "HTMLModel",
          "state": {
            "_view_name": "HTMLView",
            "style": "IPY_MODEL_87ab6b715d0f4841b2dc3ccbab416503",
            "_dom_classes": [],
            "description": "",
            "_model_name": "HTMLModel",
            "placeholder": "​",
            "_view_module": "@jupyter-widgets/controls",
            "_model_module_version": "1.5.0",
            "value": " 1654784/? [00:07&lt;00:00, 208903.65it/s]",
            "_view_count": null,
            "_view_module_version": "1.5.0",
            "description_tooltip": null,
            "_model_module": "@jupyter-widgets/controls",
            "layout": "IPY_MODEL_6abebe4aa8fb4580b466a96014c66d5b"
          }
        },
        "8351957f62d4470bafa47837ee2ed25b": {
          "model_module": "@jupyter-widgets/controls",
          "model_name": "ProgressStyleModel",
          "state": {
            "_view_name": "StyleView",
            "_model_name": "ProgressStyleModel",
            "description_width": "initial",
            "_view_module": "@jupyter-widgets/base",
            "_model_module_version": "1.5.0",
            "_view_count": null,
            "_view_module_version": "1.2.0",
            "bar_color": null,
            "_model_module": "@jupyter-widgets/controls"
          }
        },
        "97dddbcab4614a57810e59bb1ed9a7f0": {
          "model_module": "@jupyter-widgets/base",
          "model_name": "LayoutModel",
          "state": {
            "_view_name": "LayoutView",
            "grid_template_rows": null,
            "right": null,
            "justify_content": null,
            "_view_module": "@jupyter-widgets/base",
            "overflow": null,
            "_model_module_version": "1.2.0",
            "_view_count": null,
            "flex_flow": null,
            "width": null,
            "min_width": null,
            "border": null,
            "align_items": null,
            "bottom": null,
            "_model_module": "@jupyter-widgets/base",
            "top": null,
            "grid_column": null,
            "overflow_y": null,
            "overflow_x": null,
            "grid_auto_flow": null,
            "grid_area": null,
            "grid_template_columns": null,
            "flex": null,
            "_model_name": "LayoutModel",
            "justify_items": null,
            "grid_row": null,
            "max_height": null,
            "align_content": null,
            "visibility": null,
            "align_self": null,
            "height": null,
            "min_height": null,
            "padding": null,
            "grid_auto_rows": null,
            "grid_gap": null,
            "max_width": null,
            "order": null,
            "_view_module_version": "1.2.0",
            "grid_template_areas": null,
            "object_position": null,
            "object_fit": null,
            "grid_auto_columns": null,
            "margin": null,
            "display": null,
            "left": null
          }
        },
        "87ab6b715d0f4841b2dc3ccbab416503": {
          "model_module": "@jupyter-widgets/controls",
          "model_name": "DescriptionStyleModel",
          "state": {
            "_view_name": "StyleView",
            "_model_name": "DescriptionStyleModel",
            "description_width": "",
            "_view_module": "@jupyter-widgets/base",
            "_model_module_version": "1.5.0",
            "_view_count": null,
            "_view_module_version": "1.2.0",
            "_model_module": "@jupyter-widgets/controls"
          }
        },
        "6abebe4aa8fb4580b466a96014c66d5b": {
          "model_module": "@jupyter-widgets/base",
          "model_name": "LayoutModel",
          "state": {
            "_view_name": "LayoutView",
            "grid_template_rows": null,
            "right": null,
            "justify_content": null,
            "_view_module": "@jupyter-widgets/base",
            "overflow": null,
            "_model_module_version": "1.2.0",
            "_view_count": null,
            "flex_flow": null,
            "width": null,
            "min_width": null,
            "border": null,
            "align_items": null,
            "bottom": null,
            "_model_module": "@jupyter-widgets/base",
            "top": null,
            "grid_column": null,
            "overflow_y": null,
            "overflow_x": null,
            "grid_auto_flow": null,
            "grid_area": null,
            "grid_template_columns": null,
            "flex": null,
            "_model_name": "LayoutModel",
            "justify_items": null,
            "grid_row": null,
            "max_height": null,
            "align_content": null,
            "visibility": null,
            "align_self": null,
            "height": null,
            "min_height": null,
            "padding": null,
            "grid_auto_rows": null,
            "grid_gap": null,
            "max_width": null,
            "order": null,
            "_view_module_version": "1.2.0",
            "grid_template_areas": null,
            "object_position": null,
            "object_fit": null,
            "grid_auto_columns": null,
            "margin": null,
            "display": null,
            "left": null
          }
        },
        "9a8504ecb6ca4281a323b5f81dd548e1": {
          "model_module": "@jupyter-widgets/controls",
          "model_name": "HBoxModel",
          "state": {
            "_view_name": "HBoxView",
            "_dom_classes": [],
            "_model_name": "HBoxModel",
            "_view_module": "@jupyter-widgets/controls",
            "_model_module_version": "1.5.0",
            "_view_count": null,
            "_view_module_version": "1.5.0",
            "box_style": "",
            "layout": "IPY_MODEL_ddb93dc22bae44f4a6442d7e6444c155",
            "_model_module": "@jupyter-widgets/controls",
            "children": [
              "IPY_MODEL_f271775ec0fa4467a4fd8a475dfd3c37",
              "IPY_MODEL_2f23af2b5b4e48f28bf75d147829bfc0"
            ]
          }
        },
        "ddb93dc22bae44f4a6442d7e6444c155": {
          "model_module": "@jupyter-widgets/base",
          "model_name": "LayoutModel",
          "state": {
            "_view_name": "LayoutView",
            "grid_template_rows": null,
            "right": null,
            "justify_content": null,
            "_view_module": "@jupyter-widgets/base",
            "overflow": null,
            "_model_module_version": "1.2.0",
            "_view_count": null,
            "flex_flow": null,
            "width": null,
            "min_width": null,
            "border": null,
            "align_items": null,
            "bottom": null,
            "_model_module": "@jupyter-widgets/base",
            "top": null,
            "grid_column": null,
            "overflow_y": null,
            "overflow_x": null,
            "grid_auto_flow": null,
            "grid_area": null,
            "grid_template_columns": null,
            "flex": null,
            "_model_name": "LayoutModel",
            "justify_items": null,
            "grid_row": null,
            "max_height": null,
            "align_content": null,
            "visibility": null,
            "align_self": null,
            "height": null,
            "min_height": null,
            "padding": null,
            "grid_auto_rows": null,
            "grid_gap": null,
            "max_width": null,
            "order": null,
            "_view_module_version": "1.2.0",
            "grid_template_areas": null,
            "object_position": null,
            "object_fit": null,
            "grid_auto_columns": null,
            "margin": null,
            "display": null,
            "left": null
          }
        },
        "f271775ec0fa4467a4fd8a475dfd3c37": {
          "model_module": "@jupyter-widgets/controls",
          "model_name": "FloatProgressModel",
          "state": {
            "_view_name": "ProgressView",
            "style": "IPY_MODEL_8f1e48657d6b440391b76c11ac647e29",
            "_dom_classes": [],
            "description": "",
            "_model_name": "FloatProgressModel",
            "bar_style": "success",
            "max": 1,
            "_view_module": "@jupyter-widgets/controls",
            "_model_module_version": "1.5.0",
            "value": 1,
            "_view_count": null,
            "_view_module_version": "1.5.0",
            "orientation": "horizontal",
            "min": 0,
            "description_tooltip": null,
            "_model_module": "@jupyter-widgets/controls",
            "layout": "IPY_MODEL_506439eff2294795890298ef7516a640"
          }
        },
        "2f23af2b5b4e48f28bf75d147829bfc0": {
          "model_module": "@jupyter-widgets/controls",
          "model_name": "HTMLModel",
          "state": {
            "_view_name": "HTMLView",
            "style": "IPY_MODEL_4e7142c1e9eb4bcc8c0fa7b42daca29c",
            "_dom_classes": [],
            "description": "",
            "_model_name": "HTMLModel",
            "placeholder": "​",
            "_view_module": "@jupyter-widgets/controls",
            "_model_module_version": "1.5.0",
            "value": " 8192/? [00:07&lt;00:00, 1071.30it/s]",
            "_view_count": null,
            "_view_module_version": "1.5.0",
            "description_tooltip": null,
            "_model_module": "@jupyter-widgets/controls",
            "layout": "IPY_MODEL_306383b6a529430b8ac63cf74cb6720f"
          }
        },
        "8f1e48657d6b440391b76c11ac647e29": {
          "model_module": "@jupyter-widgets/controls",
          "model_name": "ProgressStyleModel",
          "state": {
            "_view_name": "StyleView",
            "_model_name": "ProgressStyleModel",
            "description_width": "initial",
            "_view_module": "@jupyter-widgets/base",
            "_model_module_version": "1.5.0",
            "_view_count": null,
            "_view_module_version": "1.2.0",
            "bar_color": null,
            "_model_module": "@jupyter-widgets/controls"
          }
        },
        "506439eff2294795890298ef7516a640": {
          "model_module": "@jupyter-widgets/base",
          "model_name": "LayoutModel",
          "state": {
            "_view_name": "LayoutView",
            "grid_template_rows": null,
            "right": null,
            "justify_content": null,
            "_view_module": "@jupyter-widgets/base",
            "overflow": null,
            "_model_module_version": "1.2.0",
            "_view_count": null,
            "flex_flow": null,
            "width": null,
            "min_width": null,
            "border": null,
            "align_items": null,
            "bottom": null,
            "_model_module": "@jupyter-widgets/base",
            "top": null,
            "grid_column": null,
            "overflow_y": null,
            "overflow_x": null,
            "grid_auto_flow": null,
            "grid_area": null,
            "grid_template_columns": null,
            "flex": null,
            "_model_name": "LayoutModel",
            "justify_items": null,
            "grid_row": null,
            "max_height": null,
            "align_content": null,
            "visibility": null,
            "align_self": null,
            "height": null,
            "min_height": null,
            "padding": null,
            "grid_auto_rows": null,
            "grid_gap": null,
            "max_width": null,
            "order": null,
            "_view_module_version": "1.2.0",
            "grid_template_areas": null,
            "object_position": null,
            "object_fit": null,
            "grid_auto_columns": null,
            "margin": null,
            "display": null,
            "left": null
          }
        },
        "4e7142c1e9eb4bcc8c0fa7b42daca29c": {
          "model_module": "@jupyter-widgets/controls",
          "model_name": "DescriptionStyleModel",
          "state": {
            "_view_name": "StyleView",
            "_model_name": "DescriptionStyleModel",
            "description_width": "",
            "_view_module": "@jupyter-widgets/base",
            "_model_module_version": "1.5.0",
            "_view_count": null,
            "_view_module_version": "1.2.0",
            "_model_module": "@jupyter-widgets/controls"
          }
        },
        "306383b6a529430b8ac63cf74cb6720f": {
          "model_module": "@jupyter-widgets/base",
          "model_name": "LayoutModel",
          "state": {
            "_view_name": "LayoutView",
            "grid_template_rows": null,
            "right": null,
            "justify_content": null,
            "_view_module": "@jupyter-widgets/base",
            "overflow": null,
            "_model_module_version": "1.2.0",
            "_view_count": null,
            "flex_flow": null,
            "width": null,
            "min_width": null,
            "border": null,
            "align_items": null,
            "bottom": null,
            "_model_module": "@jupyter-widgets/base",
            "top": null,
            "grid_column": null,
            "overflow_y": null,
            "overflow_x": null,
            "grid_auto_flow": null,
            "grid_area": null,
            "grid_template_columns": null,
            "flex": null,
            "_model_name": "LayoutModel",
            "justify_items": null,
            "grid_row": null,
            "max_height": null,
            "align_content": null,
            "visibility": null,
            "align_self": null,
            "height": null,
            "min_height": null,
            "padding": null,
            "grid_auto_rows": null,
            "grid_gap": null,
            "max_width": null,
            "order": null,
            "_view_module_version": "1.2.0",
            "grid_template_areas": null,
            "object_position": null,
            "object_fit": null,
            "grid_auto_columns": null,
            "margin": null,
            "display": null,
            "left": null
          }
        }
      }
    }
  },
  "cells": [
    {
      "cell_type": "code",
      "metadata": {
        "colab": {
          "base_uri": "https://localhost:8080/"
        },
        "id": "f4wWPSvikyxQ",
        "outputId": "81530034-adf4-4feb-a105-996ed90171cf"
      },
      "source": [
        "import torch\n",
        "import torch.nn as nn\n",
        "import torch.nn.functional as F\n",
        "import torch.optim as optim\n",
        "from random import randint\n",
        "import matplotlib.pyplot as plt\n",
        "from time import time\n",
        "from torchvision import datasets, transforms\n",
        "from torch import nn, optim\n",
        "import pandas as pd\n",
        "import time\n",
        "from ray import tune\n",
        "from ray.tune import CLIReporter\n",
        "from ray.tune.schedulers import ASHAScheduler\n",
        "import os\n",
        "from functools import partial\n"
      ],
      "execution_count": 1,
      "outputs": [
        {
          "output_type": "stream",
          "text": [
            "Device set: cuda\n"
          ],
          "name": "stdout"
        }
      ]
    },
    {
      "cell_type": "code",
      "metadata": {
        "id": "oI9JBtVpGe2P"
      },
      "source": [
        "#hyperparameters\n",
        "\n",
        "bs =20\n",
        "#nb_epochs = 3\n",
        "num_of_images = 60\n",
        "input_size = 784\n",
        "hidden_sizes = [50, 50]\n",
        "output_size = 10\n",
        "lr = 0.01\n",
        "#lr=0.003\n",
        "#nb_epochs = 15\n",
        "nb_epochs = 200\n",
        "#lr = 0.25\n",
        "#bs = 128"
      ],
      "execution_count": null,
      "outputs": []
    },
    {
      "cell_type": "code",
      "metadata": {
        "id": "9qHdQ_FD0dMd"
      },
      "source": [
        "train = datasets.MNIST(path_to_download, download=True, train=True, transform=transform)\n",
        "validation = datasets.MNIST(path_to_download, download=True, train=False, transform=transform)\n",
        "load_train = torch.utils.data.DataLoader(train, batch_size=20000, shuffle=True)\n",
        "load_val = torch.utils.data.DataLoader(validation, batch_size=1000, shuffle=True)"
      ],
      "execution_count": null,
      "outputs": []
    },
    {
      "cell_type": "code",
      "metadata": {
        "id": "UuaxR2PnnvOy"
      },
      "source": [
        "class new_net(nn.Module):\n",
        "  def __init__(self, input_size, hidden_size1, hidden_size2, output_size):\n",
        "    super(new_net, self).__init__()\n",
        "\n",
        "    self.layer1 = nn.Linear(input_size, hidden_size1, bias = True)\n",
        "    self.layer2 =nn.Linear(hidden_size1, hidden_size2, bias =True)\n",
        "    #self.layer3 = nn.Linear(hidden_size2, output_size, bias = True)\n",
        "\n",
        "  def forward(self, x):\n",
        "    y = self.layer1(x)\n",
        "    y_hat = torch.relu(y)\n",
        "    z = self.layer2(y)\n",
        "    #z_hat = torch.relu(z)\n",
        "    #scores = self.layer3(z_hat)\n",
        "\n",
        "    return z\n",
        "\n"
      ],
      "execution_count": null,
      "outputs": []
    },
    {
      "cell_type": "code",
      "metadata": {
        "id": "nJrELi54pTy6"
      },
      "source": [
        "net1=new_net(input_size=input_size,hidden_size1=hidden_sizes[0],hidden_size2=hidden_sizes[1], output_size=output_size)"
      ],
      "execution_count": null,
      "outputs": []
    },
    {
      "cell_type": "code",
      "metadata": {
        "id": "DsKcS6eSz0D-"
      },
      "source": [
        "data, labels = next(iter(load_train))\n",
        "test_data, test_labels = next (iter(load_val))\n",
        "data = data.view(data.shape[0], -1)\n",
        "test_data = test_data.view(test_data.shape[0], -1)\n"
      ],
      "execution_count": null,
      "outputs": []
    },
    {
      "cell_type": "code",
      "metadata": {
        "id": "vIkHepFIpb69"
      },
      "source": [
        ""
      ],
      "execution_count": null,
      "outputs": []
    },
    {
      "cell_type": "code",
      "metadata": {
        "id": "ybdLZ77GBLx0",
        "colab": {
          "base_uri": "https://localhost:8080/",
          "height": 352,
          "referenced_widgets": [
            "c8f9bfa887bf49b68a34a0eef249708d",
            "969fbe3dfcd747f692b796e1f7845f87",
            "39f108dad4ce4e87b38bbcc54d6e2ed4",
            "47b7bb6a311d4538b260bb3c66ee8fe9",
            "19c0cfc949a14247866470c89fbdd267",
            "3763e9f70c3a418b9b3e5a887c3f296c",
            "0d8fcb26084148d7adb6c3ea0ebf520d",
            "cace358a6a954f698945a2302dd75774",
            "def5dc9931e4461ba4ae01936e51d0da",
            "3d4e6c8745aa4cc6b25007c577bd3089",
            "239e4ae57cef40f1aec7bc0e563d3278",
            "058638eb11834aba9bd591bfb3f87efd",
            "1483111c793149d9a6c099f0aa054261",
            "5e498456b873472dbcb1851186560a6d",
            "3a26193bea08453388e0fec7e0d609d1",
            "6e72eb31a587428eb890598b272c998c",
            "dee3f7d06a5d452c866ad2a2e1f35e1e",
            "b1b5d1695c7149329833910dcebdd9fb",
            "8aa8bbaaa7fa41589800aba1f894d2bc",
            "1b11c7d6e17f4029aa6b044398093f54",
            "72276efaba9647a0b51a14bda5af64ed",
            "61413aacdd8b4aa690d9b154559067bd",
            "c2f82a41cca34a3ea452ef4f6e7299fc",
            "12d65feb3c2a4cfab5938eb78c68bf91",
            "4d60f3cd2e8d403a81be2290fe21e372",
            "26b70fe4f1bf4bea91648704f824235e",
            "41b0984dfebc41969e96128cc1dc7cd8",
            "90ae65bb14df45e981c3fe53ff709dc3",
            "3db80d7ecf984d2eb7118fa42bcff7f7",
            "d4da4b26bc2b4f22954c01b6863f4455",
            "9cc2e576fbeb4965a6fe3bcf950014f0",
            "3308fc6cf9274262b5e28df1c99e7d0d"
          ]
        },
        "outputId": "80754393-285a-4233-eb8a-81038516cf76"
      },
      "source": [
        "trainset = torchvision.datasets.MNIST(root=path_to_download + 'mnist/temp', train=True,\n",
        "                                      download=True, transform=transforms.ToTensor())\n",
        "testset = torchvision.datasets.MNIST(root=path_to_download + 'mnist/temp', train=False,\n",
        "                                     download=True, transform=transforms.ToTensor())\n",
        "train_data=torch.Tensor(60000,28,28)\n",
        "train_label=torch.LongTensor(60000)\n",
        "for idx , example in enumerate(trainset):\n",
        "  train_data[idx]=example[0].squeeze()\n",
        "  train_label[idx]=example[1]\n",
        "test_data=torch.Tensor(10000,28,28)\n",
        "test_label=torch.LongTensor(10000)\n",
        "for idx , example in enumerate(testset):\n",
        "  test_data[idx]=example[0].squeeze()\n",
        "  test_label[idx]=example[1]"
      ],
      "execution_count": null,
      "outputs": [
        {
          "output_type": "stream",
          "text": [
            "Downloading http://yann.lecun.com/exdb/mnist/train-images-idx3-ubyte.gz to /Users/carlairismao/Documents/NTU masters 2020-21/AI6121 Computer Vision/Term Papermnist/temp/MNIST/raw/train-images-idx3-ubyte.gz\n"
          ],
          "name": "stdout"
        },
        {
          "output_type": "display_data",
          "data": {
            "application/vnd.jupyter.widget-view+json": {
              "model_id": "c8f9bfa887bf49b68a34a0eef249708d",
              "version_minor": 0,
              "version_major": 2
            },
            "text/plain": [
              "HBox(children=(FloatProgress(value=1.0, bar_style='info', max=1.0), HTML(value='')))"
            ]
          },
          "metadata": {
            "tags": []
          }
        },
        {
          "output_type": "stream",
          "text": [
            "Extracting /Users/carlairismao/Documents/NTU masters 2020-21/AI6121 Computer Vision/Term Papermnist/temp/MNIST/raw/train-images-idx3-ubyte.gz to /Users/carlairismao/Documents/NTU masters 2020-21/AI6121 Computer Vision/Term Papermnist/temp/MNIST/raw\n",
            "Downloading http://yann.lecun.com/exdb/mnist/train-labels-idx1-ubyte.gz to /Users/carlairismao/Documents/NTU masters 2020-21/AI6121 Computer Vision/Term Papermnist/temp/MNIST/raw/train-labels-idx1-ubyte.gz\n",
            "\n"
          ],
          "name": "stdout"
        },
        {
          "output_type": "display_data",
          "data": {
            "application/vnd.jupyter.widget-view+json": {
              "model_id": "def5dc9931e4461ba4ae01936e51d0da",
              "version_minor": 0,
              "version_major": 2
            },
            "text/plain": [
              "HBox(children=(FloatProgress(value=1.0, bar_style='info', max=1.0), HTML(value='')))"
            ]
          },
          "metadata": {
            "tags": []
          }
        },
        {
          "output_type": "stream",
          "text": [
            "Extracting /Users/carlairismao/Documents/NTU masters 2020-21/AI6121 Computer Vision/Term Papermnist/temp/MNIST/raw/train-labels-idx1-ubyte.gz to /Users/carlairismao/Documents/NTU masters 2020-21/AI6121 Computer Vision/Term Papermnist/temp/MNIST/raw\n",
            "Downloading http://yann.lecun.com/exdb/mnist/t10k-images-idx3-ubyte.gz to /Users/carlairismao/Documents/NTU masters 2020-21/AI6121 Computer Vision/Term Papermnist/temp/MNIST/raw/t10k-images-idx3-ubyte.gz\n"
          ],
          "name": "stdout"
        },
        {
          "output_type": "display_data",
          "data": {
            "application/vnd.jupyter.widget-view+json": {
              "model_id": "dee3f7d06a5d452c866ad2a2e1f35e1e",
              "version_minor": 0,
              "version_major": 2
            },
            "text/plain": [
              "HBox(children=(FloatProgress(value=1.0, bar_style='info', max=1.0), HTML(value='')))"
            ]
          },
          "metadata": {
            "tags": []
          }
        },
        {
          "output_type": "stream",
          "text": [
            "Extracting /Users/carlairismao/Documents/NTU masters 2020-21/AI6121 Computer Vision/Term Papermnist/temp/MNIST/raw/t10k-images-idx3-ubyte.gz to /Users/carlairismao/Documents/NTU masters 2020-21/AI6121 Computer Vision/Term Papermnist/temp/MNIST/raw\n",
            "Downloading http://yann.lecun.com/exdb/mnist/t10k-labels-idx1-ubyte.gz to /Users/carlairismao/Documents/NTU masters 2020-21/AI6121 Computer Vision/Term Papermnist/temp/MNIST/raw/t10k-labels-idx1-ubyte.gz\n"
          ],
          "name": "stdout"
        },
        {
          "output_type": "display_data",
          "data": {
            "application/vnd.jupyter.widget-view+json": {
              "model_id": "4d60f3cd2e8d403a81be2290fe21e372",
              "version_minor": 0,
              "version_major": 2
            },
            "text/plain": [
              "HBox(children=(FloatProgress(value=1.0, bar_style='info', max=1.0), HTML(value='')))"
            ]
          },
          "metadata": {
            "tags": []
          }
        },
        {
          "output_type": "stream",
          "text": [
            "Extracting /Users/carlairismao/Documents/NTU masters 2020-21/AI6121 Computer Vision/Term Papermnist/temp/MNIST/raw/t10k-labels-idx1-ubyte.gz to /Users/carlairismao/Documents/NTU masters 2020-21/AI6121 Computer Vision/Term Papermnist/temp/MNIST/raw\n",
            "Processing...\n",
            "Done!\n"
          ],
          "name": "stdout"
        }
      ]
    },
    {
      "cell_type": "code",
      "metadata": {
        "id": "jEC87iEqptV9"
      },
      "source": [
        "criterion = nn.CrossEntropyLoss()\n",
        "optimizer=torch.optim.SGD( net1.parameters() , lr=lr )\n"
      ],
      "execution_count": null,
      "outputs": []
    },
    {
      "cell_type": "code",
      "metadata": {
        "id": "SO3Lalhi02Zl",
        "colab": {
          "base_uri": "https://localhost:8080/"
        },
        "outputId": "fc4a9360-5222-437e-d03c-c94635a51a14"
      },
      "source": [
        "train_data.shape"
      ],
      "execution_count": null,
      "outputs": [
        {
          "output_type": "execute_result",
          "data": {
            "text/plain": [
              "torch.Size([60000, 28, 28])"
            ]
          },
          "metadata": {
            "tags": []
          },
          "execution_count": 33
        }
      ]
    },
    {
      "cell_type": "code",
      "metadata": {
        "id": "HQKpmOHLquvb"
      },
      "source": [
        "\"\"\"def get_error( score_s , label_s ):\n",
        "\n",
        "    bs=score_s.size(0)\n",
        "    predicted_labels = score_s.argmax(dim=1)\n",
        "    indicator = (predicted_labels == label_s)\n",
        "    num_matches=indicator.sum()\n",
        "    \n",
        "    return 1-num_matches.float()/bs \"\"\""
      ],
      "execution_count": null,
      "outputs": []
    },
    {
      "cell_type": "code",
      "metadata": {
        "id": "AuaehGQGqBsf"
      },
      "source": [
        "def test_network():\n",
        "\n",
        "    running_error=0\n",
        "    num_batches=0\n",
        "\n",
        "    for i in range(0,10000,bs):\n",
        "\n",
        "        minibatch_data =  test_data[i:i+bs]\n",
        "        minibatch_label= test_label[i:i+bs]\n",
        "\n",
        "        inputs = minibatch_data.view(bs,784)\n",
        "\n",
        "        scores=net1( inputs ) \n",
        "\n",
        "        error = get_error( scores , minibatch_label)\n",
        "\n",
        "        running_error += error.item()\n",
        "\n",
        "        num_batches+=1\n",
        "\n",
        "\n",
        "    total_error = running_error/num_batches\n",
        "    print( 'test error  = ', total_error*100 ,'percent')"
      ],
      "execution_count": null,
      "outputs": []
    },
    {
      "cell_type": "code",
      "metadata": {
        "id": "OuPDX8mhrj6d",
        "colab": {
          "base_uri": "https://localhost:8080/"
        },
        "outputId": "67b080c1-3f52-4bbb-ea9e-360812aa5e7c"
      },
      "source": [
        "start = time.time()\n",
        "\n",
        "for epoch in range(200):\n",
        "    \n",
        "    running_loss=0\n",
        "    running_error=0\n",
        "    num_batches=0\n",
        "    \n",
        "    shuffled_indices=torch.randperm(60000)\n",
        " \n",
        "    for count in range(0,60000,bs):\n",
        "        \n",
        "        # forward and backward pass\n",
        "    \n",
        "        optimizer.zero_grad()\n",
        "        \n",
        "        indices=shuffled_indices[count:count+bs]\n",
        "        minibatch_data =  train_data[indices]\n",
        "        minibatch_label= train_label[indices]\n",
        "\n",
        "        inputs = minibatch_data.view(bs,784)\n",
        "\n",
        "        inputs.requires_grad_()\n",
        "\n",
        "        scores=net1( inputs ) \n",
        "\n",
        "        loss =  criterion( scores , minibatch_label) \n",
        "        \n",
        "        loss.backward()\n",
        "\n",
        "        optimizer.step()\n",
        "        \n",
        "        \n",
        "        # compute some stats\n",
        "        \n",
        "        running_loss += loss.detach().item()\n",
        "               \n",
        "        error = get_error( scores.detach() , minibatch_label)\n",
        "        running_error += error.item()\n",
        "        \n",
        "        num_batches+=1\n",
        "    \n",
        "    \n",
        "    # once the epoch is finished we divide the \"running quantities\"\n",
        "    # by the number of batches\n",
        "    \n",
        "    total_loss = running_loss/num_batches\n",
        "    total_error = running_error/num_batches\n",
        "    elapsed_time = time.time() - start\n",
        "    \n",
        "    # every 10 epoch we display the stats \n",
        "    # and compute the error rate on the test set  \n",
        "    \n",
        "    if epoch % 5 == 0 : \n",
        "      print(' ')\n",
        "\n",
        "       \n",
        "    \n",
        "      print(' ')\n",
        "        \n",
        "      print('epoch=',epoch, '\\t time=', elapsed_time,\n",
        "            '\\t loss=', total_loss , '\\t error=', total_error*100 ,'percent')\n",
        "        \n",
        "      test_network()\n",
        "               "
      ],
      "execution_count": null,
      "outputs": [
        {
          "output_type": "stream",
          "text": [
            " \n",
            " \n",
            "epoch= 0 \t time= 2.694605588912964 \t loss= 0.7058580060551564 \t error= 16.878333483139674 percent\n",
            "test error  =  9.870000505447388 percent\n",
            " \n",
            " \n",
            "epoch= 5 \t time= 15.839480876922607 \t loss= 0.28876011276617647 \t error= 8.141667272647222 percent\n",
            "test error  =  7.950000488758087 percent\n",
            " \n",
            " \n",
            "epoch= 10 \t time= 28.96443772315979 \t loss= 0.27220447459754843 \t error= 7.563333998123804 percent\n",
            "test error  =  7.740000486373902 percent\n",
            " \n",
            " \n",
            "epoch= 15 \t time= 42.1882483959198 \t loss= 0.26359951283937944 \t error= 7.33000066280365 percent\n",
            "test error  =  7.550000500679016 percent\n",
            " \n",
            " \n",
            "epoch= 20 \t time= 55.252307653427124 \t loss= 0.258605891947945 \t error= 7.136667400598526 percent\n",
            "test error  =  7.6200004577636715 percent\n",
            " \n",
            " \n",
            "epoch= 25 \t time= 68.46931004524231 \t loss= 0.25439077073149385 \t error= 7.035000689824422 percent\n",
            "test error  =  7.530000483989715 percent\n",
            " \n",
            " \n",
            "epoch= 30 \t time= 81.56419372558594 \t loss= 0.25204141123065105 \t error= 6.923334081967672 percent\n",
            "test error  =  7.660000622272492 percent\n",
            " \n",
            " \n",
            "epoch= 35 \t time= 94.83684420585632 \t loss= 0.2492777815144509 \t error= 6.8400007327397665 percent\n",
            "test error  =  7.350000512599945 percent\n",
            " \n",
            " \n",
            "epoch= 40 \t time= 107.98972344398499 \t loss= 0.2471357563768203 \t error= 6.783334072430929 percent\n",
            "test error  =  7.4800005674362176 percent\n",
            " \n",
            " \n",
            "epoch= 45 \t time= 121.12913036346436 \t loss= 0.24552855590668818 \t error= 6.806667399406432 percent\n",
            "test error  =  7.350000488758088 percent\n",
            " \n",
            " \n",
            "epoch= 50 \t time= 134.37877583503723 \t loss= 0.24415443632534395 \t error= 6.736667337020238 percent\n",
            "test error  =  7.540000486373902 percent\n",
            " \n",
            " \n",
            "epoch= 55 \t time= 147.6542456150055 \t loss= 0.24331005230980615 \t error= 6.736667396624883 percent\n",
            "test error  =  7.710000514984131 percent\n",
            " \n",
            " \n",
            "epoch= 60 \t time= 160.81152200698853 \t loss= 0.24195057851433133 \t error= 6.710000741481781 percent\n",
            "test error  =  7.490000474452972 percent\n",
            " \n",
            " \n",
            "epoch= 65 \t time= 174.0715298652649 \t loss= 0.24105160648189486 \t error= 6.690000696976979 percent\n",
            "test error  =  7.530000483989715 percent\n",
            " \n",
            " \n",
            "epoch= 70 \t time= 188.0002257823944 \t loss= 0.2398049505292438 \t error= 6.6133340239524845 percent\n",
            "test error  =  7.400000476837159 percent\n",
            " \n",
            " \n",
            "epoch= 75 \t time= 202.74566507339478 \t loss= 0.23913709924401094 \t error= 6.585000783205032 percent\n",
            "test error  =  7.6000005245208735 percent\n",
            " \n",
            " \n",
            "epoch= 80 \t time= 215.9762351512909 \t loss= 0.2382151756954069 \t error= 6.648334093888601 percent\n",
            "test error  =  7.630000495910645 percent\n",
            " \n",
            " \n",
            "epoch= 85 \t time= 229.30711007118225 \t loss= 0.2376989004529702 \t error= 6.54666744073232 percent\n",
            "test error  =  7.530000579357147 percent\n",
            " \n",
            " \n",
            "epoch= 90 \t time= 242.43484830856323 \t loss= 0.2372011506035924 \t error= 6.5333340485890705 percent\n",
            "test error  =  7.58000055551529 percent\n",
            " \n",
            " \n",
            "epoch= 95 \t time= 255.71303415298462 \t loss= 0.23635136083172012 \t error= 6.538334101438522 percent\n",
            "test error  =  7.480000531673431 percent\n",
            " \n",
            " \n",
            "epoch= 100 \t time= 268.97233867645264 \t loss= 0.23606666908878832 \t error= 6.51666744152705 percent\n",
            "test error  =  7.510000514984131 percent\n",
            " \n",
            " \n",
            "epoch= 105 \t time= 282.07863879203796 \t loss= 0.2350277682642142 \t error= 6.510000745455424 percent\n",
            "test error  =  7.86000052690506 percent\n",
            " \n",
            " \n",
            "epoch= 110 \t time= 295.30339908599854 \t loss= 0.23493044836384555 \t error= 6.518334048986435 percent\n",
            "test error  =  7.64000049829483 percent\n",
            " \n",
            " \n",
            "epoch= 115 \t time= 308.4540436267853 \t loss= 0.23479911393206568 \t error= 6.511667422453563 percent\n",
            "test error  =  7.640000510215759 percent\n",
            " \n",
            " \n",
            "epoch= 120 \t time= 321.5195243358612 \t loss= 0.23412198464789738 \t error= 6.47333405415217 percent\n",
            "test error  =  7.400000500679016 percent\n",
            " \n",
            " \n",
            "epoch= 125 \t time= 334.6595754623413 \t loss= 0.23386339148692786 \t error= 6.475000725189845 percent\n",
            "test error  =  7.500000524520874 percent\n",
            " \n",
            " \n",
            "epoch= 130 \t time= 347.7235701084137 \t loss= 0.2334009267638127 \t error= 6.431667427221933 percent\n",
            "test error  =  7.3900005459785465 percent\n",
            " \n",
            " \n",
            "epoch= 135 \t time= 360.73175597190857 \t loss= 0.23286425395216792 \t error= 6.4633340815703075 percent\n",
            "test error  =  7.600000512599945 percent\n",
            " \n",
            " \n",
            "epoch= 140 \t time= 373.70926094055176 \t loss= 0.232819719562307 \t error= 6.436667374769847 percent\n",
            "test error  =  7.580000483989716 percent\n",
            " \n",
            " \n",
            "epoch= 145 \t time= 386.8334894180298 \t loss= 0.232028867706346 \t error= 6.461667388677597 percent\n",
            "test error  =  7.660000598430633 percent\n",
            " \n",
            " \n",
            "epoch= 150 \t time= 399.8879175186157 \t loss= 0.2320579981029344 \t error= 6.431667417287827 percent\n",
            "test error  =  7.630000519752503 percent\n",
            " \n",
            " \n",
            "epoch= 155 \t time= 412.8992350101471 \t loss= 0.23157996343215928 \t error= 6.385000741481781 percent\n",
            "test error  =  7.500000607967376 percent\n",
            " \n",
            " \n",
            "epoch= 160 \t time= 426.0083522796631 \t loss= 0.23135593071052182 \t error= 6.4200007518132525 percent\n",
            "test error  =  7.590000557899475 percent\n",
            " \n",
            " \n",
            "epoch= 165 \t time= 439.14201307296753 \t loss= 0.2305623371079564 \t error= 6.4400006969769805 percent\n",
            "test error  =  7.330000507831573 percent\n",
            " \n",
            " \n",
            "epoch= 170 \t time= 452.2232286930084 \t loss= 0.23100832931449017 \t error= 6.373334068059922 percent\n",
            "test error  =  7.530000519752503 percent\n",
            " \n",
            " \n",
            "epoch= 175 \t time= 465.35113644599915 \t loss= 0.2301947698282699 \t error= 6.336667450269064 percent\n",
            "test error  =  7.63000055551529 percent\n",
            " \n",
            " \n",
            "epoch= 180 \t time= 478.34624218940735 \t loss= 0.23034345919126645 \t error= 6.4516674002011625 percent\n",
            "test error  =  7.570000576972961 percent\n",
            " \n",
            " \n",
            "epoch= 185 \t time= 491.33203744888306 \t loss= 0.22989732590845477 \t error= 6.3483340839544935 percent\n",
            "test error  =  7.380000483989716 percent\n",
            " \n",
            " \n",
            "epoch= 190 \t time= 505.0165522098541 \t loss= 0.22996534228231758 \t error= 6.3766673624515535 percent\n",
            "test error  =  7.670000541210174 percent\n",
            " \n",
            " \n",
            "epoch= 195 \t time= 518.3398206233978 \t loss= 0.229799326437215 \t error= 6.331667387485504 percent\n",
            "test error  =  7.8000005125999445 percent\n"
          ],
          "name": "stdout"
        }
      ]
    },
    {
      "cell_type": "code",
      "metadata": {
        "id": "PS_eQkwop3qH"
      },
      "source": [
        ""
      ],
      "execution_count": null,
      "outputs": []
    },
    {
      "cell_type": "code",
      "metadata": {
        "id": "Uup_A5Vyp3yC"
      },
      "source": [
        ""
      ],
      "execution_count": null,
      "outputs": []
    },
    {
      "cell_type": "code",
      "metadata": {
        "id": "JGp2VOIFp386"
      },
      "source": [
        ""
      ],
      "execution_count": null,
      "outputs": []
    },
    {
      "cell_type": "markdown",
      "metadata": {
        "id": "xFXvFmEMpZaV"
      },
      "source": [
        "# Lenet5 CNN structure"
      ]
    },
    {
      "cell_type": "code",
      "metadata": {
        "colab": {
          "base_uri": "https://localhost:8080/"
        },
        "id": "Rft1Tcw-lJEd",
        "outputId": "7476c457-9850-4373-f8c5-3c91c42e13b7"
      },
      "source": [
        "# Set the device\n",
        "device = torch.device(\"cuda\")\n",
        "# device= torch.device(\"cpu\")\n",
        "print(\"Device set: \" + str(device))"
      ],
      "execution_count": 2,
      "outputs": [
        {
          "output_type": "stream",
          "text": [
            "Device set: cuda\n"
          ],
          "name": "stdout"
        }
      ]
    },
    {
      "cell_type": "code",
      "metadata": {
        "id": "BXISxMx9k8oJ"
      },
      "source": [
        "# Utility methods\n",
        "\n",
        "def get_error(scores, labels):\n",
        "\tbs = scores.size(0)\n",
        "\tpredicted_labels = scores.argmax(dim=1)\n",
        "\tindicator = (predicted_labels == labels)\n",
        "\tnum_matches = indicator.sum()\n",
        "\treturn 1 - num_matches.float() / bs"
      ],
      "execution_count": 3,
      "outputs": []
    },
    {
      "cell_type": "code",
      "metadata": {
        "id": "1sxxSaLRlBhU"
      },
      "source": [
        "\n",
        "# First eval on test set\n",
        "\n",
        "def eval_on_test_set():\n",
        "\trunning_error = 0\n",
        "\tnum_batches = 0\n",
        "\n",
        "\tfor i in range(0, 10000, bs):\n",
        "\t\tminibatch_data = test_data[i:i + bs].unsqueeze(dim=1)\n",
        "\t\tminibatch_label = test_label[i:i + bs]\n",
        "\t\tminibatch_data = minibatch_data.to(device)\n",
        "\t\tminibatch_label = minibatch_label.to(device)\n",
        "\t\tinputs = (minibatch_data - mean) / std\n",
        "\t\tscores = net(inputs)\n",
        "\t\terror = get_error(scores, minibatch_label)\n",
        "\t\trunning_error += error.item()\n",
        "\t\tnum_batches += 1\n",
        "\ttotal_error = running_error / num_batches\n",
        "\tprint('error rate on test set =', total_error * 100, 'percent')"
      ],
      "execution_count": 4,
      "outputs": []
    },
    {
      "cell_type": "code",
      "metadata": {
        "colab": {
          "base_uri": "https://localhost:8080/"
        },
        "id": "dQBWgxGDlWCQ",
        "outputId": "3d5aee20-f5b7-43b1-9f4b-0f7f0b83a96e"
      },
      "source": [
        "# Download MNIST dataset form pytorch\n",
        "print(\"Checking for MNIST dataset.. \")\n",
        "\n",
        "\n",
        "def check_mnist_dataset_exists(path_data='./data/'):\n",
        "\timport os.path\n",
        "\tflag_train_data = os.path.isfile(path_data + 'mnist/train_data.pt')\n",
        "\tflag_train_label = os.path.isfile(path_data + 'mnist/train_label.pt')\n",
        "\tflag_test_data = os.path.isfile(path_data + 'mnist/test_data.pt')\n",
        "\tflag_test_label = os.path.isfile(path_data + 'mnist/test_label.pt')\n",
        "\tif flag_train_data == False or flag_train_label == False or flag_test_data == False or flag_test_label == False:\n",
        "\t\tprint('MNIST dataset missing - downloading...')\n",
        "\t\timport torchvision\n",
        "\t\timport torchvision.transforms as transforms\n",
        "\t\ttrainset = torchvision.datasets.MNIST(root=path_data + 'mnist/temp', train=True,\n",
        "\t\t                                      download=True, transform=transforms.ToTensor())\n",
        "\t\ttestset = torchvision.datasets.MNIST(root=path_data + 'mnist/temp', train=False,\n",
        "\t\t                                     download=True, transform=transforms.ToTensor())\n",
        "\t\ttrain_data = torch.Tensor(60000, 28, 28)\n",
        "\t\ttrain_label = torch.LongTensor(60000)\n",
        "\t\tfor idx, example in enumerate(trainset):\n",
        "\t\t\ttrain_data[idx] = example[0].squeeze()\n",
        "\t\t\ttrain_label[idx] = example[1]\n",
        "\t\ttorch.save(train_data, path_data + 'mnist/train_data.pt')\n",
        "\t\ttorch.save(train_label, path_data + 'mnist/train_label.pt')\n",
        "\t\ttest_data = torch.Tensor(10000, 28, 28)\n",
        "\t\ttest_label = torch.LongTensor(10000)\n",
        "\t\tfor idx, example in enumerate(testset):\n",
        "\t\t\ttest_data[idx] = example[0].squeeze()\n",
        "\t\t\ttest_label[idx] = example[1]\n",
        "\t\ttorch.save(test_data, path_data + 'mnist/test_data.pt')\n",
        "\t\ttorch.save(test_label, path_data + 'mnist/test_label.pt')\n",
        "\ttrain_data = torch.load(path_data + 'mnist/train_data.pt')\n",
        "\ttrain_label = torch.load(path_data + 'mnist/train_label.pt')\n",
        "\ttest_data = torch.load(path_data + 'mnist/test_data.pt')\n",
        "\ttest_label = torch.load(path_data + 'mnist/test_label.pt')\n",
        "\treturn train_data, train_label, test_data, test_label\n",
        "\n",
        "\n"
      ],
      "execution_count": 5,
      "outputs": [
        {
          "output_type": "stream",
          "text": [
            "Checking for MNIST dataset.. \n"
          ],
          "name": "stdout"
        }
      ]
    },
    {
      "cell_type": "code",
      "metadata": {
        "colab": {
          "base_uri": "https://localhost:8080/",
          "height": 403,
          "referenced_widgets": [
            "baa34debe3bc4eea8e582ac2f3fcd349",
            "c9660529c9c14956a0a1a1e1872da47f",
            "8430b6fa3e194cda983a1302a9be37b3",
            "28086a958a714eaea6ba8f0380f14491",
            "3223c089633f41c4a5c7990c3781fa7e",
            "ee171d3ba03842abb071bb3df7d1c285",
            "1355ac599453429d8fa69686a31343fd",
            "a6d1cd1e06e74539afc12c9496334ffe",
            "ff148d6c0e354a40b1976aaaaf447726",
            "b792cdf5c31e494f95fe4de8adee2e90",
            "104aa84d4f35423ea6d3c20cb79222dc",
            "a80ced0e99b74ee8aaf1d1264a4cbaee",
            "81ff77b8195d40249dc379ca73b98bbb",
            "48029ecbf1694a84b88f3f1e27e57aee",
            "e37be1ffab2843128d1b0462d170e6df",
            "f0f8c58480924aafa74650ef7ee254e3",
            "9a36995af4854cb99c4a9dc01b96057e",
            "c03b130e80b74c3ab75c88cee740bcc0",
            "05c08c3ef2d94455b7d10a0454d35ecd",
            "4fbc637d2c864acb9dadc3b101730ac3",
            "8351957f62d4470bafa47837ee2ed25b",
            "97dddbcab4614a57810e59bb1ed9a7f0",
            "87ab6b715d0f4841b2dc3ccbab416503",
            "6abebe4aa8fb4580b466a96014c66d5b",
            "9a8504ecb6ca4281a323b5f81dd548e1",
            "ddb93dc22bae44f4a6442d7e6444c155",
            "f271775ec0fa4467a4fd8a475dfd3c37",
            "2f23af2b5b4e48f28bf75d147829bfc0",
            "8f1e48657d6b440391b76c11ac647e29",
            "506439eff2294795890298ef7516a640",
            "4e7142c1e9eb4bcc8c0fa7b42daca29c",
            "306383b6a529430b8ac63cf74cb6720f"
          ]
        },
        "id": "N2KCA6NalXnw",
        "outputId": "60371d87-aa33-4236-f675-9f72f21ba172"
      },
      "source": [
        "train_data, train_label, test_data, test_label = check_mnist_dataset_exists()\n",
        "\n",
        "print(\"Creating LeNet\")\n"
      ],
      "execution_count": 6,
      "outputs": [
        {
          "output_type": "stream",
          "text": [
            "MNIST dataset missing - downloading...\n",
            "Downloading http://yann.lecun.com/exdb/mnist/train-images-idx3-ubyte.gz to ./data/mnist/temp/MNIST/raw/train-images-idx3-ubyte.gz\n"
          ],
          "name": "stdout"
        },
        {
          "output_type": "display_data",
          "data": {
            "application/vnd.jupyter.widget-view+json": {
              "model_id": "baa34debe3bc4eea8e582ac2f3fcd349",
              "version_minor": 0,
              "version_major": 2
            },
            "text/plain": [
              "HBox(children=(FloatProgress(value=1.0, bar_style='info', max=1.0), HTML(value='')))"
            ]
          },
          "metadata": {
            "tags": []
          }
        },
        {
          "output_type": "stream",
          "text": [
            "Extracting ./data/mnist/temp/MNIST/raw/train-images-idx3-ubyte.gz to ./data/mnist/temp/MNIST/raw\n",
            "Downloading http://yann.lecun.com/exdb/mnist/train-labels-idx1-ubyte.gz to ./data/mnist/temp/MNIST/raw/train-labels-idx1-ubyte.gz\n"
          ],
          "name": "stdout"
        },
        {
          "output_type": "display_data",
          "data": {
            "application/vnd.jupyter.widget-view+json": {
              "model_id": "ff148d6c0e354a40b1976aaaaf447726",
              "version_minor": 0,
              "version_major": 2
            },
            "text/plain": [
              "HBox(children=(FloatProgress(value=1.0, bar_style='info', max=1.0), HTML(value='')))"
            ]
          },
          "metadata": {
            "tags": []
          }
        },
        {
          "output_type": "stream",
          "text": [
            "Extracting ./data/mnist/temp/MNIST/raw/train-labels-idx1-ubyte.gz to ./data/mnist/temp/MNIST/raw\n",
            "Downloading http://yann.lecun.com/exdb/mnist/t10k-images-idx3-ubyte.gz to ./data/mnist/temp/MNIST/raw/t10k-images-idx3-ubyte.gz\n"
          ],
          "name": "stdout"
        },
        {
          "output_type": "display_data",
          "data": {
            "application/vnd.jupyter.widget-view+json": {
              "model_id": "9a36995af4854cb99c4a9dc01b96057e",
              "version_minor": 0,
              "version_major": 2
            },
            "text/plain": [
              "HBox(children=(FloatProgress(value=1.0, bar_style='info', max=1.0), HTML(value='')))"
            ]
          },
          "metadata": {
            "tags": []
          }
        },
        {
          "output_type": "stream",
          "text": [
            "Extracting ./data/mnist/temp/MNIST/raw/t10k-images-idx3-ubyte.gz to ./data/mnist/temp/MNIST/raw\n",
            "Downloading http://yann.lecun.com/exdb/mnist/t10k-labels-idx1-ubyte.gz to ./data/mnist/temp/MNIST/raw/t10k-labels-idx1-ubyte.gz\n"
          ],
          "name": "stdout"
        },
        {
          "output_type": "display_data",
          "data": {
            "application/vnd.jupyter.widget-view+json": {
              "model_id": "9a8504ecb6ca4281a323b5f81dd548e1",
              "version_minor": 0,
              "version_major": 2
            },
            "text/plain": [
              "HBox(children=(FloatProgress(value=1.0, bar_style='info', max=1.0), HTML(value='')))"
            ]
          },
          "metadata": {
            "tags": []
          }
        },
        {
          "output_type": "stream",
          "text": [
            "Extracting ./data/mnist/temp/MNIST/raw/t10k-labels-idx1-ubyte.gz to ./data/mnist/temp/MNIST/raw\n",
            "Processing...\n",
            "Done!\n"
          ],
          "name": "stdout"
        },
        {
          "output_type": "stream",
          "text": [
            "/usr/local/lib/python3.6/dist-packages/torchvision/datasets/mnist.py:480: UserWarning: The given NumPy array is not writeable, and PyTorch does not support non-writeable tensors. This means you can write to the underlying (supposedly non-writeable) NumPy array using the tensor. You may want to copy the array to protect its data or make it writeable before converting it to a tensor. This type of warning will be suppressed for the rest of this program. (Triggered internally at  /pytorch/torch/csrc/utils/tensor_numpy.cpp:141.)\n",
            "  return torch.from_numpy(parsed.astype(m[2], copy=False)).view(*s)\n"
          ],
          "name": "stderr"
        },
        {
          "output_type": "stream",
          "text": [
            "Creating LeNet\n"
          ],
          "name": "stdout"
        }
      ]
    },
    {
      "cell_type": "code",
      "metadata": {
        "colab": {
          "base_uri": "https://localhost:8080/"
        },
        "id": "hEgo4h6Ll5JO",
        "outputId": "13a11d34-8686-4d3e-bd0e-0377b4ef193d"
      },
      "source": [
        "\n",
        "class LeNet(nn.Module):\n",
        "\n",
        "\tdef __init__(self):\n",
        "\t\tsuper(LeNet, self).__init__()\n",
        "\n",
        "\t\t# CL1:   28 x 28  -->    50 x 28 x 28\n",
        "\t\tself.conv1 = nn.Conv2d(1, 50, kernel_size=3, padding=1)\n",
        "\t\t# MP1: 50 x 28 x 28 -->    50 x 14 x 14\n",
        "\t\tself.pool1 = nn.MaxPool2d(2, 2)\n",
        "\t\t# CL2:   50 x 14 x 14  -->    100 x 14 x 14\n",
        "\t\tself.conv2 = nn.Conv2d(50, 100, kernel_size=3, padding=1)\n",
        "\t\t# MP2: 100 x 14 x 14 -->    100 x 7 x 7\n",
        "\t\tself.pool2 = nn.MaxPool2d(2, 2)\n",
        "\t\t# LL1:   100 x 7 x 7 = 4900 -->  100\n",
        "\t\tself.linear1 = nn.Linear(4900, 100)\n",
        "\t\t# LL2:   100  -->  10\n",
        "\t\tself.linear2 = nn.Linear(100, 10)"
      ],
      "execution_count": 7,
      "outputs": [
        {
          "output_type": "stream",
          "text": [
            "\n",
            "\n"
          ],
          "name": "stdout"
        }
      ]
    },
    {
      "cell_type": "code",
      "metadata": {
        "id": "tbaPbnghl6qL"
      },
      "source": [
        "\tdef forward(self, x):\n",
        "\t\t# CL1:   28 x 28  -->    50 x 28 x 28\n",
        "\t\tx = self.conv1(x)\n",
        "\t\tx = F.relu(x)\n",
        "\t\t# MP1: 50 x 28 x 28 -->    50 x 14 x 14\n",
        "\t\tx = self.pool1(x)\n",
        "\t\t# CL2:   50 x 14 x 14  -->    100 x 14 x 14\n",
        "\t\tx = self.conv2(x)\n",
        "\t\tx = F.relu(x)\n",
        "\t\t# MP2: 100 x 14 x 14 -->    100 x 7 x 7\n",
        "\t\tx = self.pool2(x)\n",
        "\t\t# LL1:   100 x 7 x 7 = 4900  -->  100\n",
        "\t\tx = x.view(-1, 4900)\n",
        "\t\tx = self.linear1(x)\n",
        "\t\tx = F.relu(x)\n",
        "\t\t# LL2:   4900  -->  10\n",
        "\t\tx = self.linear2(x)\n",
        "\n",
        "\t\treturn x\n"
      ],
      "execution_count": 8,
      "outputs": []
    },
    {
      "cell_type": "code",
      "metadata": {
        "id": "H6M_pUQyl_Za"
      },
      "source": [
        "net = LeNet()\n",
        "print(net)\n",
        "net = net.to(device)"
      ],
      "execution_count": null,
      "outputs": []
    },
    {
      "cell_type": "code",
      "metadata": {
        "id": "tY9-TxsHl_ci"
      },
      "source": [
        "# Set hyper parameters\n",
        "# 1. loss function\n",
        "# 2. learning rate\n",
        "# 3. batch size\n",
        "\n",
        "criterion = nn.CrossEntropyLoss()\n",
        "lr = 0.25\n",
        "bs = 128\n",
        "mean = train_data.mean()\n",
        "std = train_data.std()"
      ],
      "execution_count": null,
      "outputs": []
    },
    {
      "cell_type": "code",
      "metadata": {
        "colab": {
          "base_uri": "https://localhost:8080/",
          "height": 232
        },
        "id": "x4H-OubWk8qp",
        "outputId": "09704754-42ff-4c89-dcca-cf09e867653b"
      },
      "source": [
        "start = time.time()\n",
        "\n",
        "for epoch in range(1, 30):\n",
        "\n",
        "\tif not epoch % 5:\n",
        "\t\tlr = lr / 1.5\n",
        "\n",
        "\toptimizer = torch.optim.SGD(net.parameters(), lr=lr)\n",
        "\n",
        "\trunning_loss = 0\n",
        "\trunning_error = 0\n",
        "\tnum_batches = 0\n",
        "\n",
        "\tshuffled_indices = torch.randperm(60000)\n",
        "\n",
        "\tfor count in range(0, 60000, bs):\n",
        "\t\t# FORWARD AND BACKWARD PASS\n",
        "\t\toptimizer.zero_grad()\n",
        "\t\tindices = shuffled_indices[count:count + bs]\n",
        "\t\tminibatch_data = train_data[indices].unsqueeze(dim=1)\n",
        "\t\tminibatch_label = train_label[indices]\n",
        "\t\tminibatch_data = minibatch_data.to(device)\n",
        "\t\tminibatch_label = minibatch_label.to(device)\n",
        "\t\tinputs = (minibatch_data - mean) / std  # ONLY CHANGE IS HERE!\n",
        "\t\tinputs.requires_grad_()\n",
        "\t\tscores = net(inputs)\n",
        "\t\tloss = criterion(scores, minibatch_label)\n",
        "\t\tloss.backward()\n",
        "\t\toptimizer.step()\n",
        "\t\t# COMPUTE STATS\n",
        "\t\trunning_loss += loss.detach().item()\n",
        "\t\terror = get_error(scores.detach(), minibatch_label)\n",
        "\t\trunning_error += error.item()\n",
        "\t\tnum_batches += 1\n",
        "\n",
        "\t# AVERAGE STATS THEN DISPLAY\n",
        "\ttotal_loss = running_loss / num_batches\n",
        "\ttotal_error = running_error / num_batches\n",
        "\telapsed = (time.time() - start) / 60\n",
        "\n",
        "\tprint('epoch=', epoch, '\\t time=', elapsed, 'min', '\\t lr=', lr,\n",
        "\t      '\\t loss=', total_loss, '\\t error=', total_error * 100, 'percent')\n",
        "\n",
        "\teval_on_test_set()"
      ],
      "execution_count": 10,
      "outputs": [
        {
          "output_type": "error",
          "ename": "NameError",
          "evalue": "ignored",
          "traceback": [
            "\u001b[0;31m---------------------------------------------------------------------------\u001b[0m",
            "\u001b[0;31mNameError\u001b[0m                                 Traceback (most recent call last)",
            "\u001b[0;32m<ipython-input-10-04d4b7252f6b>\u001b[0m in \u001b[0;36m<module>\u001b[0;34m()\u001b[0m\n\u001b[1;32m      6\u001b[0m                 \u001b[0mlr\u001b[0m \u001b[0;34m=\u001b[0m \u001b[0mlr\u001b[0m \u001b[0;34m/\u001b[0m \u001b[0;36m1.5\u001b[0m\u001b[0;34m\u001b[0m\u001b[0;34m\u001b[0m\u001b[0m\n\u001b[1;32m      7\u001b[0m \u001b[0;34m\u001b[0m\u001b[0m\n\u001b[0;32m----> 8\u001b[0;31m         \u001b[0moptimizer\u001b[0m \u001b[0;34m=\u001b[0m \u001b[0mtorch\u001b[0m\u001b[0;34m.\u001b[0m\u001b[0moptim\u001b[0m\u001b[0;34m.\u001b[0m\u001b[0mSGD\u001b[0m\u001b[0;34m(\u001b[0m\u001b[0mnet\u001b[0m\u001b[0;34m.\u001b[0m\u001b[0mparameters\u001b[0m\u001b[0;34m(\u001b[0m\u001b[0;34m)\u001b[0m\u001b[0;34m,\u001b[0m \u001b[0mlr\u001b[0m\u001b[0;34m=\u001b[0m\u001b[0mlr\u001b[0m\u001b[0;34m)\u001b[0m\u001b[0;34m\u001b[0m\u001b[0;34m\u001b[0m\u001b[0m\n\u001b[0m\u001b[1;32m      9\u001b[0m \u001b[0;34m\u001b[0m\u001b[0m\n\u001b[1;32m     10\u001b[0m         \u001b[0mrunning_loss\u001b[0m \u001b[0;34m=\u001b[0m \u001b[0;36m0\u001b[0m\u001b[0;34m\u001b[0m\u001b[0;34m\u001b[0m\u001b[0m\n",
            "\u001b[0;31mNameError\u001b[0m: name 'lr' is not defined"
          ]
        }
      ]
    },
    {
      "cell_type": "code",
      "metadata": {
        "id": "5P2SBiy8l-XM"
      },
      "source": [
        ""
      ],
      "execution_count": null,
      "outputs": []
    },
    {
      "cell_type": "code",
      "metadata": {
        "id": "1kNyievBl-a3"
      },
      "source": [
        "\n"
      ],
      "execution_count": null,
      "outputs": []
    },
    {
      "cell_type": "markdown",
      "metadata": {
        "id": "nL4Q72JjowSa"
      },
      "source": [
        ""
      ]
    }
  ]
}