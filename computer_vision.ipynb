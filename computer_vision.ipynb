{
  "nbformat": 4,
  "nbformat_minor": 0,
  "metadata": {
    "colab": {
      "name": "computer_vision.ipynb",
      "provenance": [],
      "collapsed_sections": []
    },
    "kernelspec": {
      "name": "python3",
      "display_name": "Python 3"
    },
    "widgets": {
      "application/vnd.jupyter.widget-state+json": {
        "1d930847d29942938bde78c4b03bc93e": {
          "model_module": "@jupyter-widgets/controls",
          "model_name": "HBoxModel",
          "state": {
            "_view_name": "HBoxView",
            "_dom_classes": [],
            "_model_name": "HBoxModel",
            "_view_module": "@jupyter-widgets/controls",
            "_model_module_version": "1.5.0",
            "_view_count": null,
            "_view_module_version": "1.5.0",
            "box_style": "",
            "layout": "IPY_MODEL_72722dc30522467290e2521a05fbf11f",
            "_model_module": "@jupyter-widgets/controls",
            "children": [
              "IPY_MODEL_aea2b62dfcf64f74989cdf7f4f8580a1",
              "IPY_MODEL_53e235a44ac14936a0a36eac1381343f"
            ]
          }
        },
        "72722dc30522467290e2521a05fbf11f": {
          "model_module": "@jupyter-widgets/base",
          "model_name": "LayoutModel",
          "state": {
            "_view_name": "LayoutView",
            "grid_template_rows": null,
            "right": null,
            "justify_content": null,
            "_view_module": "@jupyter-widgets/base",
            "overflow": null,
            "_model_module_version": "1.2.0",
            "_view_count": null,
            "flex_flow": null,
            "width": null,
            "min_width": null,
            "border": null,
            "align_items": null,
            "bottom": null,
            "_model_module": "@jupyter-widgets/base",
            "top": null,
            "grid_column": null,
            "overflow_y": null,
            "overflow_x": null,
            "grid_auto_flow": null,
            "grid_area": null,
            "grid_template_columns": null,
            "flex": null,
            "_model_name": "LayoutModel",
            "justify_items": null,
            "grid_row": null,
            "max_height": null,
            "align_content": null,
            "visibility": null,
            "align_self": null,
            "height": null,
            "min_height": null,
            "padding": null,
            "grid_auto_rows": null,
            "grid_gap": null,
            "max_width": null,
            "order": null,
            "_view_module_version": "1.2.0",
            "grid_template_areas": null,
            "object_position": null,
            "object_fit": null,
            "grid_auto_columns": null,
            "margin": null,
            "display": null,
            "left": null
          }
        },
        "aea2b62dfcf64f74989cdf7f4f8580a1": {
          "model_module": "@jupyter-widgets/controls",
          "model_name": "FloatProgressModel",
          "state": {
            "_view_name": "ProgressView",
            "style": "IPY_MODEL_9143a7e94e914c728773778a2e65d255",
            "_dom_classes": [],
            "description": "",
            "_model_name": "FloatProgressModel",
            "bar_style": "success",
            "max": 1,
            "_view_module": "@jupyter-widgets/controls",
            "_model_module_version": "1.5.0",
            "value": 1,
            "_view_count": null,
            "_view_module_version": "1.5.0",
            "orientation": "horizontal",
            "min": 0,
            "description_tooltip": null,
            "_model_module": "@jupyter-widgets/controls",
            "layout": "IPY_MODEL_505b6cb1db664f53a5032b23930fa594"
          }
        },
        "53e235a44ac14936a0a36eac1381343f": {
          "model_module": "@jupyter-widgets/controls",
          "model_name": "HTMLModel",
          "state": {
            "_view_name": "HTMLView",
            "style": "IPY_MODEL_38f4cc764d9f4c56847d27271c2bc85c",
            "_dom_classes": [],
            "description": "",
            "_model_name": "HTMLModel",
            "placeholder": "​",
            "_view_module": "@jupyter-widgets/controls",
            "_model_module_version": "1.5.0",
            "value": " 9920512/? [00:06&lt;00:00, 1488525.70it/s]",
            "_view_count": null,
            "_view_module_version": "1.5.0",
            "description_tooltip": null,
            "_model_module": "@jupyter-widgets/controls",
            "layout": "IPY_MODEL_bb5eacdad9884cb4a96b7e51f40b9e68"
          }
        },
        "9143a7e94e914c728773778a2e65d255": {
          "model_module": "@jupyter-widgets/controls",
          "model_name": "ProgressStyleModel",
          "state": {
            "_view_name": "StyleView",
            "_model_name": "ProgressStyleModel",
            "description_width": "initial",
            "_view_module": "@jupyter-widgets/base",
            "_model_module_version": "1.5.0",
            "_view_count": null,
            "_view_module_version": "1.2.0",
            "bar_color": null,
            "_model_module": "@jupyter-widgets/controls"
          }
        },
        "505b6cb1db664f53a5032b23930fa594": {
          "model_module": "@jupyter-widgets/base",
          "model_name": "LayoutModel",
          "state": {
            "_view_name": "LayoutView",
            "grid_template_rows": null,
            "right": null,
            "justify_content": null,
            "_view_module": "@jupyter-widgets/base",
            "overflow": null,
            "_model_module_version": "1.2.0",
            "_view_count": null,
            "flex_flow": null,
            "width": null,
            "min_width": null,
            "border": null,
            "align_items": null,
            "bottom": null,
            "_model_module": "@jupyter-widgets/base",
            "top": null,
            "grid_column": null,
            "overflow_y": null,
            "overflow_x": null,
            "grid_auto_flow": null,
            "grid_area": null,
            "grid_template_columns": null,
            "flex": null,
            "_model_name": "LayoutModel",
            "justify_items": null,
            "grid_row": null,
            "max_height": null,
            "align_content": null,
            "visibility": null,
            "align_self": null,
            "height": null,
            "min_height": null,
            "padding": null,
            "grid_auto_rows": null,
            "grid_gap": null,
            "max_width": null,
            "order": null,
            "_view_module_version": "1.2.0",
            "grid_template_areas": null,
            "object_position": null,
            "object_fit": null,
            "grid_auto_columns": null,
            "margin": null,
            "display": null,
            "left": null
          }
        },
        "38f4cc764d9f4c56847d27271c2bc85c": {
          "model_module": "@jupyter-widgets/controls",
          "model_name": "DescriptionStyleModel",
          "state": {
            "_view_name": "StyleView",
            "_model_name": "DescriptionStyleModel",
            "description_width": "",
            "_view_module": "@jupyter-widgets/base",
            "_model_module_version": "1.5.0",
            "_view_count": null,
            "_view_module_version": "1.2.0",
            "_model_module": "@jupyter-widgets/controls"
          }
        },
        "bb5eacdad9884cb4a96b7e51f40b9e68": {
          "model_module": "@jupyter-widgets/base",
          "model_name": "LayoutModel",
          "state": {
            "_view_name": "LayoutView",
            "grid_template_rows": null,
            "right": null,
            "justify_content": null,
            "_view_module": "@jupyter-widgets/base",
            "overflow": null,
            "_model_module_version": "1.2.0",
            "_view_count": null,
            "flex_flow": null,
            "width": null,
            "min_width": null,
            "border": null,
            "align_items": null,
            "bottom": null,
            "_model_module": "@jupyter-widgets/base",
            "top": null,
            "grid_column": null,
            "overflow_y": null,
            "overflow_x": null,
            "grid_auto_flow": null,
            "grid_area": null,
            "grid_template_columns": null,
            "flex": null,
            "_model_name": "LayoutModel",
            "justify_items": null,
            "grid_row": null,
            "max_height": null,
            "align_content": null,
            "visibility": null,
            "align_self": null,
            "height": null,
            "min_height": null,
            "padding": null,
            "grid_auto_rows": null,
            "grid_gap": null,
            "max_width": null,
            "order": null,
            "_view_module_version": "1.2.0",
            "grid_template_areas": null,
            "object_position": null,
            "object_fit": null,
            "grid_auto_columns": null,
            "margin": null,
            "display": null,
            "left": null
          }
        },
        "8cd39602eaf149adb4815b34fe52a1f0": {
          "model_module": "@jupyter-widgets/controls",
          "model_name": "HBoxModel",
          "state": {
            "_view_name": "HBoxView",
            "_dom_classes": [],
            "_model_name": "HBoxModel",
            "_view_module": "@jupyter-widgets/controls",
            "_model_module_version": "1.5.0",
            "_view_count": null,
            "_view_module_version": "1.5.0",
            "box_style": "",
            "layout": "IPY_MODEL_74cff84dd5f14c549a30c59248dca6e9",
            "_model_module": "@jupyter-widgets/controls",
            "children": [
              "IPY_MODEL_a2f0172dc20e40f9bb574aea90f19d99",
              "IPY_MODEL_f38824aae67a4a57aa4d9a9d5ce7f3c6"
            ]
          }
        },
        "74cff84dd5f14c549a30c59248dca6e9": {
          "model_module": "@jupyter-widgets/base",
          "model_name": "LayoutModel",
          "state": {
            "_view_name": "LayoutView",
            "grid_template_rows": null,
            "right": null,
            "justify_content": null,
            "_view_module": "@jupyter-widgets/base",
            "overflow": null,
            "_model_module_version": "1.2.0",
            "_view_count": null,
            "flex_flow": null,
            "width": null,
            "min_width": null,
            "border": null,
            "align_items": null,
            "bottom": null,
            "_model_module": "@jupyter-widgets/base",
            "top": null,
            "grid_column": null,
            "overflow_y": null,
            "overflow_x": null,
            "grid_auto_flow": null,
            "grid_area": null,
            "grid_template_columns": null,
            "flex": null,
            "_model_name": "LayoutModel",
            "justify_items": null,
            "grid_row": null,
            "max_height": null,
            "align_content": null,
            "visibility": null,
            "align_self": null,
            "height": null,
            "min_height": null,
            "padding": null,
            "grid_auto_rows": null,
            "grid_gap": null,
            "max_width": null,
            "order": null,
            "_view_module_version": "1.2.0",
            "grid_template_areas": null,
            "object_position": null,
            "object_fit": null,
            "grid_auto_columns": null,
            "margin": null,
            "display": null,
            "left": null
          }
        },
        "a2f0172dc20e40f9bb574aea90f19d99": {
          "model_module": "@jupyter-widgets/controls",
          "model_name": "FloatProgressModel",
          "state": {
            "_view_name": "ProgressView",
            "style": "IPY_MODEL_aeb249d46de24ca7b33ed3a65e60921b",
            "_dom_classes": [],
            "description": "",
            "_model_name": "FloatProgressModel",
            "bar_style": "success",
            "max": 1,
            "_view_module": "@jupyter-widgets/controls",
            "_model_module_version": "1.5.0",
            "value": 1,
            "_view_count": null,
            "_view_module_version": "1.5.0",
            "orientation": "horizontal",
            "min": 0,
            "description_tooltip": null,
            "_model_module": "@jupyter-widgets/controls",
            "layout": "IPY_MODEL_78c1410dd7264f6bb694a3895dc2513c"
          }
        },
        "f38824aae67a4a57aa4d9a9d5ce7f3c6": {
          "model_module": "@jupyter-widgets/controls",
          "model_name": "HTMLModel",
          "state": {
            "_view_name": "HTMLView",
            "style": "IPY_MODEL_742ce1ca326a45dc9a4b98528483e70d",
            "_dom_classes": [],
            "description": "",
            "_model_name": "HTMLModel",
            "placeholder": "​",
            "_view_module": "@jupyter-widgets/controls",
            "_model_module_version": "1.5.0",
            "value": " 32768/? [00:01&lt;00:00, 22719.31it/s]",
            "_view_count": null,
            "_view_module_version": "1.5.0",
            "description_tooltip": null,
            "_model_module": "@jupyter-widgets/controls",
            "layout": "IPY_MODEL_2eff666957524845ab24f61e2cecf5a7"
          }
        },
        "aeb249d46de24ca7b33ed3a65e60921b": {
          "model_module": "@jupyter-widgets/controls",
          "model_name": "ProgressStyleModel",
          "state": {
            "_view_name": "StyleView",
            "_model_name": "ProgressStyleModel",
            "description_width": "initial",
            "_view_module": "@jupyter-widgets/base",
            "_model_module_version": "1.5.0",
            "_view_count": null,
            "_view_module_version": "1.2.0",
            "bar_color": null,
            "_model_module": "@jupyter-widgets/controls"
          }
        },
        "78c1410dd7264f6bb694a3895dc2513c": {
          "model_module": "@jupyter-widgets/base",
          "model_name": "LayoutModel",
          "state": {
            "_view_name": "LayoutView",
            "grid_template_rows": null,
            "right": null,
            "justify_content": null,
            "_view_module": "@jupyter-widgets/base",
            "overflow": null,
            "_model_module_version": "1.2.0",
            "_view_count": null,
            "flex_flow": null,
            "width": null,
            "min_width": null,
            "border": null,
            "align_items": null,
            "bottom": null,
            "_model_module": "@jupyter-widgets/base",
            "top": null,
            "grid_column": null,
            "overflow_y": null,
            "overflow_x": null,
            "grid_auto_flow": null,
            "grid_area": null,
            "grid_template_columns": null,
            "flex": null,
            "_model_name": "LayoutModel",
            "justify_items": null,
            "grid_row": null,
            "max_height": null,
            "align_content": null,
            "visibility": null,
            "align_self": null,
            "height": null,
            "min_height": null,
            "padding": null,
            "grid_auto_rows": null,
            "grid_gap": null,
            "max_width": null,
            "order": null,
            "_view_module_version": "1.2.0",
            "grid_template_areas": null,
            "object_position": null,
            "object_fit": null,
            "grid_auto_columns": null,
            "margin": null,
            "display": null,
            "left": null
          }
        },
        "742ce1ca326a45dc9a4b98528483e70d": {
          "model_module": "@jupyter-widgets/controls",
          "model_name": "DescriptionStyleModel",
          "state": {
            "_view_name": "StyleView",
            "_model_name": "DescriptionStyleModel",
            "description_width": "",
            "_view_module": "@jupyter-widgets/base",
            "_model_module_version": "1.5.0",
            "_view_count": null,
            "_view_module_version": "1.2.0",
            "_model_module": "@jupyter-widgets/controls"
          }
        },
        "2eff666957524845ab24f61e2cecf5a7": {
          "model_module": "@jupyter-widgets/base",
          "model_name": "LayoutModel",
          "state": {
            "_view_name": "LayoutView",
            "grid_template_rows": null,
            "right": null,
            "justify_content": null,
            "_view_module": "@jupyter-widgets/base",
            "overflow": null,
            "_model_module_version": "1.2.0",
            "_view_count": null,
            "flex_flow": null,
            "width": null,
            "min_width": null,
            "border": null,
            "align_items": null,
            "bottom": null,
            "_model_module": "@jupyter-widgets/base",
            "top": null,
            "grid_column": null,
            "overflow_y": null,
            "overflow_x": null,
            "grid_auto_flow": null,
            "grid_area": null,
            "grid_template_columns": null,
            "flex": null,
            "_model_name": "LayoutModel",
            "justify_items": null,
            "grid_row": null,
            "max_height": null,
            "align_content": null,
            "visibility": null,
            "align_self": null,
            "height": null,
            "min_height": null,
            "padding": null,
            "grid_auto_rows": null,
            "grid_gap": null,
            "max_width": null,
            "order": null,
            "_view_module_version": "1.2.0",
            "grid_template_areas": null,
            "object_position": null,
            "object_fit": null,
            "grid_auto_columns": null,
            "margin": null,
            "display": null,
            "left": null
          }
        },
        "fd573300952941708106d105edffe28a": {
          "model_module": "@jupyter-widgets/controls",
          "model_name": "HBoxModel",
          "state": {
            "_view_name": "HBoxView",
            "_dom_classes": [],
            "_model_name": "HBoxModel",
            "_view_module": "@jupyter-widgets/controls",
            "_model_module_version": "1.5.0",
            "_view_count": null,
            "_view_module_version": "1.5.0",
            "box_style": "",
            "layout": "IPY_MODEL_2c439ef88bd54d8691e5fc4dfb90fd21",
            "_model_module": "@jupyter-widgets/controls",
            "children": [
              "IPY_MODEL_ff92c83b38e647d896a3630940691205",
              "IPY_MODEL_f409048eb4fd4c6ab7a966a7a98644aa"
            ]
          }
        },
        "2c439ef88bd54d8691e5fc4dfb90fd21": {
          "model_module": "@jupyter-widgets/base",
          "model_name": "LayoutModel",
          "state": {
            "_view_name": "LayoutView",
            "grid_template_rows": null,
            "right": null,
            "justify_content": null,
            "_view_module": "@jupyter-widgets/base",
            "overflow": null,
            "_model_module_version": "1.2.0",
            "_view_count": null,
            "flex_flow": null,
            "width": null,
            "min_width": null,
            "border": null,
            "align_items": null,
            "bottom": null,
            "_model_module": "@jupyter-widgets/base",
            "top": null,
            "grid_column": null,
            "overflow_y": null,
            "overflow_x": null,
            "grid_auto_flow": null,
            "grid_area": null,
            "grid_template_columns": null,
            "flex": null,
            "_model_name": "LayoutModel",
            "justify_items": null,
            "grid_row": null,
            "max_height": null,
            "align_content": null,
            "visibility": null,
            "align_self": null,
            "height": null,
            "min_height": null,
            "padding": null,
            "grid_auto_rows": null,
            "grid_gap": null,
            "max_width": null,
            "order": null,
            "_view_module_version": "1.2.0",
            "grid_template_areas": null,
            "object_position": null,
            "object_fit": null,
            "grid_auto_columns": null,
            "margin": null,
            "display": null,
            "left": null
          }
        },
        "ff92c83b38e647d896a3630940691205": {
          "model_module": "@jupyter-widgets/controls",
          "model_name": "FloatProgressModel",
          "state": {
            "_view_name": "ProgressView",
            "style": "IPY_MODEL_918835f78b5b49f9976af1a87e568afe",
            "_dom_classes": [],
            "description": "",
            "_model_name": "FloatProgressModel",
            "bar_style": "success",
            "max": 1,
            "_view_module": "@jupyter-widgets/controls",
            "_model_module_version": "1.5.0",
            "value": 1,
            "_view_count": null,
            "_view_module_version": "1.5.0",
            "orientation": "horizontal",
            "min": 0,
            "description_tooltip": null,
            "_model_module": "@jupyter-widgets/controls",
            "layout": "IPY_MODEL_bc4fe1fa9e0746bc83ec7e1fea2522d8"
          }
        },
        "f409048eb4fd4c6ab7a966a7a98644aa": {
          "model_module": "@jupyter-widgets/controls",
          "model_name": "HTMLModel",
          "state": {
            "_view_name": "HTMLView",
            "style": "IPY_MODEL_8d1b9a62ffff4884a32e623ed93b7ba0",
            "_dom_classes": [],
            "description": "",
            "_model_name": "HTMLModel",
            "placeholder": "​",
            "_view_module": "@jupyter-widgets/controls",
            "_model_module_version": "1.5.0",
            "value": " 1654784/? [00:01&lt;00:00, 1466864.76it/s]",
            "_view_count": null,
            "_view_module_version": "1.5.0",
            "description_tooltip": null,
            "_model_module": "@jupyter-widgets/controls",
            "layout": "IPY_MODEL_ac02d6ae2e624d369e8783bacdcea2a8"
          }
        },
        "918835f78b5b49f9976af1a87e568afe": {
          "model_module": "@jupyter-widgets/controls",
          "model_name": "ProgressStyleModel",
          "state": {
            "_view_name": "StyleView",
            "_model_name": "ProgressStyleModel",
            "description_width": "initial",
            "_view_module": "@jupyter-widgets/base",
            "_model_module_version": "1.5.0",
            "_view_count": null,
            "_view_module_version": "1.2.0",
            "bar_color": null,
            "_model_module": "@jupyter-widgets/controls"
          }
        },
        "bc4fe1fa9e0746bc83ec7e1fea2522d8": {
          "model_module": "@jupyter-widgets/base",
          "model_name": "LayoutModel",
          "state": {
            "_view_name": "LayoutView",
            "grid_template_rows": null,
            "right": null,
            "justify_content": null,
            "_view_module": "@jupyter-widgets/base",
            "overflow": null,
            "_model_module_version": "1.2.0",
            "_view_count": null,
            "flex_flow": null,
            "width": null,
            "min_width": null,
            "border": null,
            "align_items": null,
            "bottom": null,
            "_model_module": "@jupyter-widgets/base",
            "top": null,
            "grid_column": null,
            "overflow_y": null,
            "overflow_x": null,
            "grid_auto_flow": null,
            "grid_area": null,
            "grid_template_columns": null,
            "flex": null,
            "_model_name": "LayoutModel",
            "justify_items": null,
            "grid_row": null,
            "max_height": null,
            "align_content": null,
            "visibility": null,
            "align_self": null,
            "height": null,
            "min_height": null,
            "padding": null,
            "grid_auto_rows": null,
            "grid_gap": null,
            "max_width": null,
            "order": null,
            "_view_module_version": "1.2.0",
            "grid_template_areas": null,
            "object_position": null,
            "object_fit": null,
            "grid_auto_columns": null,
            "margin": null,
            "display": null,
            "left": null
          }
        },
        "8d1b9a62ffff4884a32e623ed93b7ba0": {
          "model_module": "@jupyter-widgets/controls",
          "model_name": "DescriptionStyleModel",
          "state": {
            "_view_name": "StyleView",
            "_model_name": "DescriptionStyleModel",
            "description_width": "",
            "_view_module": "@jupyter-widgets/base",
            "_model_module_version": "1.5.0",
            "_view_count": null,
            "_view_module_version": "1.2.0",
            "_model_module": "@jupyter-widgets/controls"
          }
        },
        "ac02d6ae2e624d369e8783bacdcea2a8": {
          "model_module": "@jupyter-widgets/base",
          "model_name": "LayoutModel",
          "state": {
            "_view_name": "LayoutView",
            "grid_template_rows": null,
            "right": null,
            "justify_content": null,
            "_view_module": "@jupyter-widgets/base",
            "overflow": null,
            "_model_module_version": "1.2.0",
            "_view_count": null,
            "flex_flow": null,
            "width": null,
            "min_width": null,
            "border": null,
            "align_items": null,
            "bottom": null,
            "_model_module": "@jupyter-widgets/base",
            "top": null,
            "grid_column": null,
            "overflow_y": null,
            "overflow_x": null,
            "grid_auto_flow": null,
            "grid_area": null,
            "grid_template_columns": null,
            "flex": null,
            "_model_name": "LayoutModel",
            "justify_items": null,
            "grid_row": null,
            "max_height": null,
            "align_content": null,
            "visibility": null,
            "align_self": null,
            "height": null,
            "min_height": null,
            "padding": null,
            "grid_auto_rows": null,
            "grid_gap": null,
            "max_width": null,
            "order": null,
            "_view_module_version": "1.2.0",
            "grid_template_areas": null,
            "object_position": null,
            "object_fit": null,
            "grid_auto_columns": null,
            "margin": null,
            "display": null,
            "left": null
          }
        },
        "71dc8711a5aa4b0297f9f1b9f630ef4b": {
          "model_module": "@jupyter-widgets/controls",
          "model_name": "HBoxModel",
          "state": {
            "_view_name": "HBoxView",
            "_dom_classes": [],
            "_model_name": "HBoxModel",
            "_view_module": "@jupyter-widgets/controls",
            "_model_module_version": "1.5.0",
            "_view_count": null,
            "_view_module_version": "1.5.0",
            "box_style": "",
            "layout": "IPY_MODEL_a403e2d3aae14bc4b24ae99dbd66d1b1",
            "_model_module": "@jupyter-widgets/controls",
            "children": [
              "IPY_MODEL_970b1e8c55f44c48adbae842b80afc6c",
              "IPY_MODEL_81bfc40b6f234a8f95512525f2b438f7"
            ]
          }
        },
        "a403e2d3aae14bc4b24ae99dbd66d1b1": {
          "model_module": "@jupyter-widgets/base",
          "model_name": "LayoutModel",
          "state": {
            "_view_name": "LayoutView",
            "grid_template_rows": null,
            "right": null,
            "justify_content": null,
            "_view_module": "@jupyter-widgets/base",
            "overflow": null,
            "_model_module_version": "1.2.0",
            "_view_count": null,
            "flex_flow": null,
            "width": null,
            "min_width": null,
            "border": null,
            "align_items": null,
            "bottom": null,
            "_model_module": "@jupyter-widgets/base",
            "top": null,
            "grid_column": null,
            "overflow_y": null,
            "overflow_x": null,
            "grid_auto_flow": null,
            "grid_area": null,
            "grid_template_columns": null,
            "flex": null,
            "_model_name": "LayoutModel",
            "justify_items": null,
            "grid_row": null,
            "max_height": null,
            "align_content": null,
            "visibility": null,
            "align_self": null,
            "height": null,
            "min_height": null,
            "padding": null,
            "grid_auto_rows": null,
            "grid_gap": null,
            "max_width": null,
            "order": null,
            "_view_module_version": "1.2.0",
            "grid_template_areas": null,
            "object_position": null,
            "object_fit": null,
            "grid_auto_columns": null,
            "margin": null,
            "display": null,
            "left": null
          }
        },
        "970b1e8c55f44c48adbae842b80afc6c": {
          "model_module": "@jupyter-widgets/controls",
          "model_name": "FloatProgressModel",
          "state": {
            "_view_name": "ProgressView",
            "style": "IPY_MODEL_79fccc09822c420ebb7bf474a634ae16",
            "_dom_classes": [],
            "description": "",
            "_model_name": "FloatProgressModel",
            "bar_style": "success",
            "max": 1,
            "_view_module": "@jupyter-widgets/controls",
            "_model_module_version": "1.5.0",
            "value": 1,
            "_view_count": null,
            "_view_module_version": "1.5.0",
            "orientation": "horizontal",
            "min": 0,
            "description_tooltip": null,
            "_model_module": "@jupyter-widgets/controls",
            "layout": "IPY_MODEL_49f5bb458a16414b84dcebb7ebbcf587"
          }
        },
        "81bfc40b6f234a8f95512525f2b438f7": {
          "model_module": "@jupyter-widgets/controls",
          "model_name": "HTMLModel",
          "state": {
            "_view_name": "HTMLView",
            "style": "IPY_MODEL_7d57c9b5ad9a4786a47f08d9bf89b5f1",
            "_dom_classes": [],
            "description": "",
            "_model_name": "HTMLModel",
            "placeholder": "​",
            "_view_module": "@jupyter-widgets/controls",
            "_model_module_version": "1.5.0",
            "value": " 8192/? [00:00&lt;00:00, 19668.10it/s]",
            "_view_count": null,
            "_view_module_version": "1.5.0",
            "description_tooltip": null,
            "_model_module": "@jupyter-widgets/controls",
            "layout": "IPY_MODEL_d87892c5a789486c8953f9590c3bf74e"
          }
        },
        "79fccc09822c420ebb7bf474a634ae16": {
          "model_module": "@jupyter-widgets/controls",
          "model_name": "ProgressStyleModel",
          "state": {
            "_view_name": "StyleView",
            "_model_name": "ProgressStyleModel",
            "description_width": "initial",
            "_view_module": "@jupyter-widgets/base",
            "_model_module_version": "1.5.0",
            "_view_count": null,
            "_view_module_version": "1.2.0",
            "bar_color": null,
            "_model_module": "@jupyter-widgets/controls"
          }
        },
        "49f5bb458a16414b84dcebb7ebbcf587": {
          "model_module": "@jupyter-widgets/base",
          "model_name": "LayoutModel",
          "state": {
            "_view_name": "LayoutView",
            "grid_template_rows": null,
            "right": null,
            "justify_content": null,
            "_view_module": "@jupyter-widgets/base",
            "overflow": null,
            "_model_module_version": "1.2.0",
            "_view_count": null,
            "flex_flow": null,
            "width": null,
            "min_width": null,
            "border": null,
            "align_items": null,
            "bottom": null,
            "_model_module": "@jupyter-widgets/base",
            "top": null,
            "grid_column": null,
            "overflow_y": null,
            "overflow_x": null,
            "grid_auto_flow": null,
            "grid_area": null,
            "grid_template_columns": null,
            "flex": null,
            "_model_name": "LayoutModel",
            "justify_items": null,
            "grid_row": null,
            "max_height": null,
            "align_content": null,
            "visibility": null,
            "align_self": null,
            "height": null,
            "min_height": null,
            "padding": null,
            "grid_auto_rows": null,
            "grid_gap": null,
            "max_width": null,
            "order": null,
            "_view_module_version": "1.2.0",
            "grid_template_areas": null,
            "object_position": null,
            "object_fit": null,
            "grid_auto_columns": null,
            "margin": null,
            "display": null,
            "left": null
          }
        },
        "7d57c9b5ad9a4786a47f08d9bf89b5f1": {
          "model_module": "@jupyter-widgets/controls",
          "model_name": "DescriptionStyleModel",
          "state": {
            "_view_name": "StyleView",
            "_model_name": "DescriptionStyleModel",
            "description_width": "",
            "_view_module": "@jupyter-widgets/base",
            "_model_module_version": "1.5.0",
            "_view_count": null,
            "_view_module_version": "1.2.0",
            "_model_module": "@jupyter-widgets/controls"
          }
        },
        "d87892c5a789486c8953f9590c3bf74e": {
          "model_module": "@jupyter-widgets/base",
          "model_name": "LayoutModel",
          "state": {
            "_view_name": "LayoutView",
            "grid_template_rows": null,
            "right": null,
            "justify_content": null,
            "_view_module": "@jupyter-widgets/base",
            "overflow": null,
            "_model_module_version": "1.2.0",
            "_view_count": null,
            "flex_flow": null,
            "width": null,
            "min_width": null,
            "border": null,
            "align_items": null,
            "bottom": null,
            "_model_module": "@jupyter-widgets/base",
            "top": null,
            "grid_column": null,
            "overflow_y": null,
            "overflow_x": null,
            "grid_auto_flow": null,
            "grid_area": null,
            "grid_template_columns": null,
            "flex": null,
            "_model_name": "LayoutModel",
            "justify_items": null,
            "grid_row": null,
            "max_height": null,
            "align_content": null,
            "visibility": null,
            "align_self": null,
            "height": null,
            "min_height": null,
            "padding": null,
            "grid_auto_rows": null,
            "grid_gap": null,
            "max_width": null,
            "order": null,
            "_view_module_version": "1.2.0",
            "grid_template_areas": null,
            "object_position": null,
            "object_fit": null,
            "grid_auto_columns": null,
            "margin": null,
            "display": null,
            "left": null
          }
        }
      }
    }
  },
  "cells": [
    {
      "cell_type": "code",
      "metadata": {
        "id": "K2PVHRVy-TlB",
        "outputId": "699a0c28-0464-4023-ddf4-dfe7a9be9b64",
        "colab": {
          "base_uri": "https://localhost:8080/"
        }
      },
      "source": [
        "!pip uninstall -y -q pyarrow\n",
        "!pip install -q ray[debug]"
      ],
      "execution_count": 48,
      "outputs": [
        {
          "output_type": "stream",
          "text": [
            "\u001b[33mWARNING: Skipping pyarrow as it is not installed.\u001b[0m\n",
            "\u001b[K     |████████████████████████████████| 23.1MB 72.5MB/s \n",
            "\u001b[K     |████████████████████████████████| 2.9MB 43.7MB/s \n",
            "\u001b[K     |████████████████████████████████| 133kB 50.6MB/s \n",
            "\u001b[K     |████████████████████████████████| 1.3MB 38.7MB/s \n",
            "\u001b[K     |████████████████████████████████| 71kB 8.6MB/s \n",
            "\u001b[K     |████████████████████████████████| 81kB 9.3MB/s \n",
            "\u001b[K     |████████████████████████████████| 204kB 49.6MB/s \n",
            "\u001b[K     |████████████████████████████████| 71kB 8.4MB/s \n",
            "\u001b[K     |████████████████████████████████| 143kB 50.6MB/s \n",
            "\u001b[K     |████████████████████████████████| 296kB 49.5MB/s \n",
            "\u001b[K     |████████████████████████████████| 61kB 7.6MB/s \n",
            "\u001b[K     |████████████████████████████████| 102kB 11.5MB/s \n",
            "\u001b[?25h  Building wheel for gpustat (setup.py) ... \u001b[?25l\u001b[?25hdone\n",
            "  Building wheel for idna-ssl (setup.py) ... \u001b[?25l\u001b[?25hdone\n",
            "  Building wheel for contextvars (setup.py) ... \u001b[?25l\u001b[?25hdone\n"
          ],
          "name": "stdout"
        }
      ]
    },
    {
      "cell_type": "code",
      "metadata": {
        "id": "wyZKhZBTW0v9"
      },
      "source": [
        "import numpy as np\n",
        "import torch\n",
        "import torchvision\n",
        "import matplotlib.pyplot as plt\n",
        "from time import time\n",
        "from torchvision import datasets, transforms\n",
        "from torch import nn, optim\n",
        "import pandas as pd\n",
        "import time\n",
        "from ray import tune\n",
        "from ray.tune import CLIReporter\n",
        "from ray.tune.schedulers import ASHAScheduler\n",
        "import os\n",
        "from functools import partial\n"
      ],
      "execution_count": 84,
      "outputs": []
    },
    {
      "cell_type": "code",
      "metadata": {
        "id": "P_-nGBnpXgAZ"
      },
      "source": [
        "transform = transforms.Compose([transforms.ToTensor(),\n",
        "                              transforms.Normalize((0.5,), (0.5,)),\n",
        "                              ])"
      ],
      "execution_count": 46,
      "outputs": []
    },
    {
      "cell_type": "code",
      "metadata": {
        "id": "A8UUjAc5YU82",
        "outputId": "e83e34fa-fa03-4667-d87f-10a8545b1a99",
        "colab": {
          "base_uri": "https://localhost:8080/"
        }
      },
      "source": [
        "from google.colab import drive\n",
        "drive.mount(\"/content/gdrive\")"
      ],
      "execution_count": null,
      "outputs": [
        {
          "output_type": "stream",
          "text": [
            "Mounted at /content/gdrive\n"
          ],
          "name": "stdout"
        }
      ]
    },
    {
      "cell_type": "code",
      "metadata": {
        "id": "32ggtln3Ydyk"
      },
      "source": [
        "data_path= pd.read_csv('/content/gdrive/My Drive/Computer vision Term Paper/A_Z Handwritten Data.csv')"
      ],
      "execution_count": null,
      "outputs": []
    },
    {
      "cell_type": "markdown",
      "metadata": {
        "id": "n-Q-VmLLb2AN"
      },
      "source": [
        "## These are the hyperparameters\n"
      ]
    },
    {
      "cell_type": "code",
      "metadata": {
        "id": "JaVr7_IcY0JI"
      },
      "source": [
        "#hyperparameters\n",
        "\n",
        "bs =200\n",
        "nb_epochs = 3\n",
        "num_of_images = 60\n",
        "input_size = 784\n",
        "hidden_sizes = [128, 64]\n",
        "output_size = 10"
      ],
      "execution_count": null,
      "outputs": []
    },
    {
      "cell_type": "code",
      "metadata": {
        "id": "iQUHsiXoaWR3"
      },
      "source": [
        "path_to_download = '/Users/carlairismao/Documents/NTU masters 2020-21/AI6121 Computer Vision/Term Paper'"
      ],
      "execution_count": null,
      "outputs": []
    },
    {
      "cell_type": "code",
      "metadata": {
        "id": "Hup4v4EBYOHj",
        "outputId": "d29eb7cf-e1e7-494f-f756-c4d6359dcc30",
        "colab": {
          "base_uri": "https://localhost:8080/",
          "height": 420,
          "referenced_widgets": [
            "1d930847d29942938bde78c4b03bc93e",
            "72722dc30522467290e2521a05fbf11f",
            "aea2b62dfcf64f74989cdf7f4f8580a1",
            "53e235a44ac14936a0a36eac1381343f",
            "9143a7e94e914c728773778a2e65d255",
            "505b6cb1db664f53a5032b23930fa594",
            "38f4cc764d9f4c56847d27271c2bc85c",
            "bb5eacdad9884cb4a96b7e51f40b9e68",
            "8cd39602eaf149adb4815b34fe52a1f0",
            "74cff84dd5f14c549a30c59248dca6e9",
            "a2f0172dc20e40f9bb574aea90f19d99",
            "f38824aae67a4a57aa4d9a9d5ce7f3c6",
            "aeb249d46de24ca7b33ed3a65e60921b",
            "78c1410dd7264f6bb694a3895dc2513c",
            "742ce1ca326a45dc9a4b98528483e70d",
            "2eff666957524845ab24f61e2cecf5a7",
            "fd573300952941708106d105edffe28a",
            "2c439ef88bd54d8691e5fc4dfb90fd21",
            "ff92c83b38e647d896a3630940691205",
            "f409048eb4fd4c6ab7a966a7a98644aa",
            "918835f78b5b49f9976af1a87e568afe",
            "bc4fe1fa9e0746bc83ec7e1fea2522d8",
            "8d1b9a62ffff4884a32e623ed93b7ba0",
            "ac02d6ae2e624d369e8783bacdcea2a8",
            "71dc8711a5aa4b0297f9f1b9f630ef4b",
            "a403e2d3aae14bc4b24ae99dbd66d1b1",
            "970b1e8c55f44c48adbae842b80afc6c",
            "81bfc40b6f234a8f95512525f2b438f7",
            "79fccc09822c420ebb7bf474a634ae16",
            "49f5bb458a16414b84dcebb7ebbcf587",
            "7d57c9b5ad9a4786a47f08d9bf89b5f1",
            "d87892c5a789486c8953f9590c3bf74e"
          ]
        }
      },
      "source": [
        "train = datasets.MNIST(path_to_download, download=True, train=True, transform=transform)\n",
        "validation = datasets.MNIST(path_to_download, download=True, train=False, transform=transform)\n",
        "load_train = torch.utils.data.DataLoader(train, batch_size=5000, shuffle=True)\n",
        "load_val = torch.utils.data.DataLoader(validation, batch_size=5000, shuffle=True)"
      ],
      "execution_count": null,
      "outputs": [
        {
          "output_type": "stream",
          "text": [
            "Downloading http://yann.lecun.com/exdb/mnist/train-images-idx3-ubyte.gz to /Users/carlairismao/Documents/NTU masters 2020-21/AI6121 Computer Vision/Term Paper/MNIST/raw/train-images-idx3-ubyte.gz\n"
          ],
          "name": "stdout"
        },
        {
          "output_type": "display_data",
          "data": {
            "application/vnd.jupyter.widget-view+json": {
              "model_id": "1d930847d29942938bde78c4b03bc93e",
              "version_minor": 0,
              "version_major": 2
            },
            "text/plain": [
              "HBox(children=(FloatProgress(value=1.0, bar_style='info', max=1.0), HTML(value='')))"
            ]
          },
          "metadata": {
            "tags": []
          }
        },
        {
          "output_type": "stream",
          "text": [
            "Extracting /Users/carlairismao/Documents/NTU masters 2020-21/AI6121 Computer Vision/Term Paper/MNIST/raw/train-images-idx3-ubyte.gz to /Users/carlairismao/Documents/NTU masters 2020-21/AI6121 Computer Vision/Term Paper/MNIST/raw\n",
            "Downloading http://yann.lecun.com/exdb/mnist/train-labels-idx1-ubyte.gz to /Users/carlairismao/Documents/NTU masters 2020-21/AI6121 Computer Vision/Term Paper/MNIST/raw/train-labels-idx1-ubyte.gz\n"
          ],
          "name": "stdout"
        },
        {
          "output_type": "display_data",
          "data": {
            "application/vnd.jupyter.widget-view+json": {
              "model_id": "8cd39602eaf149adb4815b34fe52a1f0",
              "version_minor": 0,
              "version_major": 2
            },
            "text/plain": [
              "HBox(children=(FloatProgress(value=1.0, bar_style='info', max=1.0), HTML(value='')))"
            ]
          },
          "metadata": {
            "tags": []
          }
        },
        {
          "output_type": "stream",
          "text": [
            "Extracting /Users/carlairismao/Documents/NTU masters 2020-21/AI6121 Computer Vision/Term Paper/MNIST/raw/train-labels-idx1-ubyte.gz to /Users/carlairismao/Documents/NTU masters 2020-21/AI6121 Computer Vision/Term Paper/MNIST/raw\n",
            "Downloading http://yann.lecun.com/exdb/mnist/t10k-images-idx3-ubyte.gz to /Users/carlairismao/Documents/NTU masters 2020-21/AI6121 Computer Vision/Term Paper/MNIST/raw/t10k-images-idx3-ubyte.gz\n"
          ],
          "name": "stdout"
        },
        {
          "output_type": "display_data",
          "data": {
            "application/vnd.jupyter.widget-view+json": {
              "model_id": "fd573300952941708106d105edffe28a",
              "version_minor": 0,
              "version_major": 2
            },
            "text/plain": [
              "HBox(children=(FloatProgress(value=1.0, bar_style='info', max=1.0), HTML(value='')))"
            ]
          },
          "metadata": {
            "tags": []
          }
        },
        {
          "output_type": "stream",
          "text": [
            "Extracting /Users/carlairismao/Documents/NTU masters 2020-21/AI6121 Computer Vision/Term Paper/MNIST/raw/t10k-images-idx3-ubyte.gz to /Users/carlairismao/Documents/NTU masters 2020-21/AI6121 Computer Vision/Term Paper/MNIST/raw\n",
            "Downloading http://yann.lecun.com/exdb/mnist/t10k-labels-idx1-ubyte.gz to /Users/carlairismao/Documents/NTU masters 2020-21/AI6121 Computer Vision/Term Paper/MNIST/raw/t10k-labels-idx1-ubyte.gz\n"
          ],
          "name": "stdout"
        },
        {
          "output_type": "display_data",
          "data": {
            "application/vnd.jupyter.widget-view+json": {
              "model_id": "71dc8711a5aa4b0297f9f1b9f630ef4b",
              "version_minor": 0,
              "version_major": 2
            },
            "text/plain": [
              "HBox(children=(FloatProgress(value=1.0, bar_style='info', max=1.0), HTML(value='')))"
            ]
          },
          "metadata": {
            "tags": []
          }
        },
        {
          "output_type": "stream",
          "text": [
            "Extracting /Users/carlairismao/Documents/NTU masters 2020-21/AI6121 Computer Vision/Term Paper/MNIST/raw/t10k-labels-idx1-ubyte.gz to /Users/carlairismao/Documents/NTU masters 2020-21/AI6121 Computer Vision/Term Paper/MNIST/raw\n",
            "Processing...\n"
          ],
          "name": "stdout"
        },
        {
          "output_type": "stream",
          "text": [
            "/usr/local/lib/python3.6/dist-packages/torchvision/datasets/mnist.py:480: UserWarning: The given NumPy array is not writeable, and PyTorch does not support non-writeable tensors. This means you can write to the underlying (supposedly non-writeable) NumPy array using the tensor. You may want to copy the array to protect its data or make it writeable before converting it to a tensor. This type of warning will be suppressed for the rest of this program. (Triggered internally at  /pytorch/torch/csrc/utils/tensor_numpy.cpp:141.)\n",
            "  return torch.from_numpy(parsed.astype(m[2], copy=False)).view(*s)\n"
          ],
          "name": "stderr"
        },
        {
          "output_type": "stream",
          "text": [
            "\n",
            "\n",
            "\n",
            "Done!\n"
          ],
          "name": "stdout"
        }
      ]
    },
    {
      "cell_type": "code",
      "metadata": {
        "id": "a3zZBWwkYwmC",
        "outputId": "dc693c2a-735d-4a8d-f267-b0d5d8de598f",
        "colab": {
          "base_uri": "https://localhost:8080/"
        }
      },
      "source": [
        "data_iter = iter(load_train)\n",
        "data, labels = data_iter.next()\n",
        "print(data.shape)\n",
        "print(labels.shape)"
      ],
      "execution_count": null,
      "outputs": [
        {
          "output_type": "stream",
          "text": [
            "\n",
            "torch.Size([5000, 1, 28, 28])\n",
            "torch.Size([5000])\n"
          ],
          "name": "stdout"
        }
      ]
    },
    {
      "cell_type": "markdown",
      "metadata": {
        "id": "30zavarcbgjP"
      },
      "source": [
        ""
      ]
    },
    {
      "cell_type": "code",
      "metadata": {
        "id": "RBNAMByzbA4U",
        "outputId": "942310c9-297b-435d-fdd6-5c353cd854c5",
        "colab": {
          "base_uri": "https://localhost:8080/",
          "height": 282
        }
      },
      "source": [
        "plt.imshow(data[2].numpy().squeeze(), cmap='gray');\n",
        "print(\"label\", labels[2])"
      ],
      "execution_count": null,
      "outputs": [
        {
          "output_type": "stream",
          "text": [
            "label tensor(4)\n"
          ],
          "name": "stdout"
        },
        {
          "output_type": "display_data",
          "data": {
            "image/png": "[encoded data removed]",
            "text/plain": [
              "<Figure size 432x288 with 1 Axes>"
            ]
          },
          "metadata": {
            "tags": [],
            "needs_background": "light"
          }
        }
      ]
    },
    {
      "cell_type": "code",
      "metadata": {
        "id": "rOt4suU1bYwC",
        "outputId": "89f6dfed-df94-4855-91a4-d3c01172bb59",
        "colab": {
          "base_uri": "https://localhost:8080/",
          "height": 246
        }
      },
      "source": [
        "figure = plt.figure()\n",
        "for index in range(1, num_of_images + 1):\n",
        "    plt.subplot(6, 10, index)\n",
        "    plt.axis('off')\n",
        "    plt.imshow(data[index].numpy().squeeze(), cmap='gray')"
      ],
      "execution_count": null,
      "outputs": [
        {
          "output_type": "display_data",
          "data": {
            "image/png": "[encoded data removed]",
            "text/plain": [
              "<Figure size 432x288 with 60 Axes>"
            ]
          },
          "metadata": {
            "tags": [],
            "needs_background": "light"
          }
        }
      ]
    },
    {
      "cell_type": "code",
      "metadata": {
        "id": "qMuJ4hwxcu1G"
      },
      "source": [
        "class neural_net(nn.Module):\n",
        "  def __init__(self, input_size, hidden_size1, hidden_size2, output_size):\n",
        "    super(neural_net, self).__init__()\n",
        "\n",
        "    self.layer1 = nn.Linear(input_size, hidden_size1, bias = True)\n",
        "    self.layer2 = nn.Linear(hidden_size1, hidden_size2, bias = True)\n",
        "    self.layer3 = nn.Linear(hidden_size2, output_size, bias = True)\n",
        "\n",
        "\n",
        "  def forward(self, x):\n",
        "        \n",
        "        y       = self.layer1(x)\n",
        "        y_hat   = torch.relu(y)\n",
        "        z  = self.layer2(y_hat)\n",
        "        z_hat = torch.relu(z)\n",
        "        scores = self.layer3(z_hat)\n",
        "        \n",
        "        return scores"
      ],
      "execution_count": 70,
      "outputs": []
    },
    {
      "cell_type": "code",
      "metadata": {
        "id": "nYWs6ReihEIg"
      },
      "source": [
        "net = neural_net(input_size, hidden_sizes[0], hidden_sizes[1], output_size)"
      ],
      "execution_count": null,
      "outputs": []
    },
    {
      "cell_type": "code",
      "metadata": {
        "id": "tyxL0M9ZlJOc"
      },
      "source": [
        "criterion = nn.CrossEntropyLoss()\n",
        "#criterion = nn.NLLLoss()\n",
        "\n",
        "optimizer=torch.optim.SGD( net.parameters() , lr=0.01 )\n"
      ],
      "execution_count": null,
      "outputs": []
    },
    {
      "cell_type": "code",
      "metadata": {
        "id": "XCzbY_f5lRyT"
      },
      "source": [
        "data, labels = next(iter(load_train))\n",
        "data = data.view(data.shape[0], -1)"
      ],
      "execution_count": null,
      "outputs": []
    },
    {
      "cell_type": "code",
      "metadata": {
        "id": "8OB3xWPwoxOs"
      },
      "source": [
        "scores = net(data) #log probabilities\n",
        "probs= torch.softmax(scores, dim=1)\n",
        "loss = criterion(probs, labels) #calculate the NLL loss"
      ],
      "execution_count": null,
      "outputs": []
    },
    {
      "cell_type": "code",
      "metadata": {
        "id": "lyjVRxhUo3Fk",
        "outputId": "6adfd1c0-ba3d-4deb-cd35-5554aaf2466b",
        "colab": {
          "base_uri": "https://localhost:8080/"
        }
      },
      "source": [
        "print(loss)"
      ],
      "execution_count": null,
      "outputs": [
        {
          "output_type": "stream",
          "text": [
            "tensor(2.3036, grad_fn=<NllLossBackward>)\n"
          ],
          "name": "stdout"
        }
      ]
    },
    {
      "cell_type": "code",
      "metadata": {
        "id": "A1pGQPDPpOwQ"
      },
      "source": [
        "#print('Before backward pass: \\n', net[0].weight.grad)\n",
        "#loss.backward()\n",
        "#print('After backward pass: \\n', net[0].weight.grad)"
      ],
      "execution_count": null,
      "outputs": []
    },
    {
      "cell_type": "code",
      "metadata": {
        "id": "TgJXsnn5teKT",
        "outputId": "8bf5308f-8c37-4827-ac31-0964c37bafac",
        "colab": {
          "base_uri": "https://localhost:8080/"
        }
      },
      "source": [
        "start = time.time()\n",
        "\n",
        "for epoch in range(200):\n",
        "    \n",
        "    running_loss=0\n",
        "    running_error=0\n",
        "    num_batches=0\n",
        "    \n",
        "    shuffled_indices=torch.randperm(5000)\n",
        " \n",
        "    for count in range(0,5000,bs):\n",
        "        \n",
        "        # forward and backward pass\n",
        "    \n",
        "        optimizer.zero_grad()\n",
        "        \n",
        "        indices=shuffled_indices[count:count+bs]\n",
        "        minibatch_data =  data[indices]\n",
        "        minibatch_label= labels[indices]\n",
        "\n",
        "        inputs = minibatch_data.view(bs,784)\n",
        "\n",
        "        inputs.requires_grad_()\n",
        "\n",
        "        scores=net( inputs ) \n",
        "\n",
        "        loss =  criterion( scores , minibatch_label) \n",
        "        \n",
        "        loss.backward()\n",
        "\n",
        "        optimizer.step()\n",
        "        \n",
        "        \n",
        "        # compute some stats\n",
        "        \n",
        "        running_loss += loss.detach().item()\n",
        "               \n",
        "        #error = utils.get_error( scores.detach() , minibatch_label)\n",
        "       # error = \n",
        "        #running_error += error.item()\n",
        "        \n",
        "        num_batches+=1\n",
        "    \n",
        "    \n",
        "    # once the epoch is finished we divide the \"running quantities\"\n",
        "    # by the number of batches\n",
        "    \n",
        "    total_loss = running_loss/num_batches\n",
        "    #total_error = running_error/num_batches\n",
        "    elapsed_time = time.time() - start\n",
        "    \n",
        "    # every 10 epoch we display the stats \n",
        "    # and compute the error rate on the test set  \n",
        "    \n",
        "    if epoch % 5 == 0 : \n",
        "       \n",
        "        \n",
        "        print('epoch=',epoch, '\\t time=', elapsed_time,\n",
        "              '\\t loss=', total_loss  ,'percent')\n",
        "        \n",
        "        #eval_on_test_set()\n",
        "               "
      ],
      "execution_count": null,
      "outputs": [
        {
          "output_type": "stream",
          "text": [
            "epoch= 0 \t time= 0.09928774833679199 \t loss= 0.3044484603404999 percent\n",
            "epoch= 5 \t time= 0.5768513679504395 \t loss= 0.2939891666173935 percent\n",
            "epoch= 10 \t time= 1.0639533996582031 \t loss= 0.28453474104404447 percent\n",
            "epoch= 15 \t time= 1.5545377731323242 \t loss= 0.27695181369781496 percent\n",
            "epoch= 20 \t time= 2.0247786045074463 \t loss= 0.2679736638069153 percent\n",
            "epoch= 25 \t time= 2.508615732192993 \t loss= 0.25970142126083373 percent\n",
            "epoch= 30 \t time= 2.987720012664795 \t loss= 0.25284973710775377 percent\n",
            "epoch= 35 \t time= 3.4758949279785156 \t loss= 0.24719861626625061 percent\n",
            "epoch= 40 \t time= 3.9705393314361572 \t loss= 0.24037853956222535 percent\n",
            "epoch= 45 \t time= 4.45297384262085 \t loss= 0.2338781851530075 percent\n",
            "epoch= 50 \t time= 4.944355487823486 \t loss= 0.22865342497825622 percent\n",
            "epoch= 55 \t time= 5.426531076431274 \t loss= 0.2232656556367874 percent\n",
            "epoch= 60 \t time= 5.908841609954834 \t loss= 0.21692101895809174 percent\n",
            "epoch= 65 \t time= 6.400299549102783 \t loss= 0.21218734741210937 percent\n",
            "epoch= 70 \t time= 6.894834756851196 \t loss= 0.20692129135131837 percent\n",
            "epoch= 75 \t time= 7.387139797210693 \t loss= 0.20218838810920714 percent\n",
            "epoch= 80 \t time= 7.878108024597168 \t loss= 0.19683390498161316 percent\n",
            "epoch= 85 \t time= 8.370275974273682 \t loss= 0.19230691969394684 percent\n",
            "epoch= 90 \t time= 8.859495639801025 \t loss= 0.18869881242513656 percent\n",
            "epoch= 95 \t time= 9.352135419845581 \t loss= 0.18287992596626282 percent\n",
            "epoch= 100 \t time= 9.847735166549683 \t loss= 0.17898516476154328 percent\n",
            "epoch= 105 \t time= 10.335371971130371 \t loss= 0.1755659994482994 percent\n",
            "epoch= 110 \t time= 10.838603973388672 \t loss= 0.17114822536706925 percent\n",
            "epoch= 115 \t time= 11.34082555770874 \t loss= 0.16720248609781266 percent\n",
            "epoch= 120 \t time= 11.848679542541504 \t loss= 0.16331731110811235 percent\n",
            "epoch= 125 \t time= 12.350397109985352 \t loss= 0.15855411916971207 percent\n",
            "epoch= 130 \t time= 12.838643312454224 \t loss= 0.15417526453733443 percent\n",
            "epoch= 135 \t time= 13.324026823043823 \t loss= 0.15061826527118682 percent\n",
            "epoch= 140 \t time= 13.817063093185425 \t loss= 0.1475201117992401 percent\n",
            "epoch= 145 \t time= 14.299437999725342 \t loss= 0.14403079062700272 percent\n",
            "epoch= 150 \t time= 14.777243852615356 \t loss= 0.14011771321296693 percent\n",
            "epoch= 155 \t time= 15.27038288116455 \t loss= 0.13702980160713196 percent\n",
            "epoch= 160 \t time= 15.754969596862793 \t loss= 0.13439438730478287 percent\n",
            "epoch= 165 \t time= 16.23490595817566 \t loss= 0.13042138874530793 percent\n",
            "epoch= 170 \t time= 16.721630096435547 \t loss= 0.12728770449757576 percent\n",
            "epoch= 175 \t time= 17.196290493011475 \t loss= 0.12397973746061325 percent\n",
            "epoch= 180 \t time= 17.688729524612427 \t loss= 0.12057094544172287 percent\n",
            "epoch= 185 \t time= 18.181835889816284 \t loss= 0.11825027585029602 percent\n",
            "epoch= 190 \t time= 18.672459363937378 \t loss= 0.11463050186634063 percent\n",
            "epoch= 195 \t time= 19.171708345413208 \t loss= 0.11181221574544907 percent\n"
          ],
          "name": "stdout"
        }
      ]
    },
    {
      "cell_type": "code",
      "metadata": {
        "id": "I0O4ou4D1JE5",
        "outputId": "6a1a0b39-9dae-4f6c-ad3f-68adcfeb1273",
        "colab": {
          "base_uri": "https://localhost:8080/"
        }
      },
      "source": [
        "#optimizer = optim.SGD(net.parameters(), lr=0.003, momentum=0.9)\n",
        "optimizer=torch.optim.SGD( net.parameters() , lr=0.01 )\n",
        "\n",
        "start = time.time()\n",
        "epochs = 15\n",
        "for e in range(epochs):\n",
        "    running_loss = 0\n",
        "    for data, labels in load_train:\n",
        "        # Flatten MNIST images into a 784 long vector\n",
        "        data = data.view(data.shape[0], -1)\n",
        "    \n",
        "        # Training pass\n",
        "        optimizer.zero_grad()\n",
        "        \n",
        "        output = net(data)\n",
        "        loss = criterion(output, labels)\n",
        "        \n",
        "        #This is where the model learns by backpropagating\n",
        "        loss.backward()\n",
        "        \n",
        "        #And optimizes its weights here\n",
        "        optimizer.step()\n",
        "        \n",
        "        running_loss += loss.item()\n",
        "    else:\n",
        "        print(\"Epoch {} - Training loss: {}\".format(e, running_loss/len(load_train)))\n",
        "#print(\"\\nTraining Time (in minutes) =\",(time()-time0)/60)"
      ],
      "execution_count": null,
      "outputs": [
        {
          "output_type": "stream",
          "text": [
            "Epoch 0 - Training loss: 0.26929504921038944\n",
            "Epoch 1 - Training loss: 0.26609064390261966\n",
            "Epoch 2 - Training loss: 0.26376426592469215\n",
            "Epoch 3 - Training loss: 0.2615535420676072\n",
            "Epoch 4 - Training loss: 0.2598080113530159\n",
            "Epoch 5 - Training loss: 0.25808260093132657\n",
            "Epoch 6 - Training loss: 0.256620613237222\n",
            "Epoch 7 - Training loss: 0.255266555895408\n",
            "Epoch 8 - Training loss: 0.2539602480828762\n",
            "Epoch 9 - Training loss: 0.25278351207574207\n",
            "Epoch 10 - Training loss: 0.25177022193868953\n",
            "Epoch 11 - Training loss: 0.25053034846981365\n",
            "Epoch 12 - Training loss: 0.24944124246637026\n",
            "Epoch 13 - Training loss: 0.24849237129092216\n",
            "Epoch 14 - Training loss: 0.24757121006647745\n"
          ],
          "name": "stdout"
        }
      ]
    },
    {
      "cell_type": "code",
      "metadata": {
        "id": "YKoM-nY1lX_x"
      },
      "source": [
        "def view_classify(img, ps):\n",
        "    ''' Function for viewing an image and it's predicted classes.\n",
        "    '''\n",
        "    ps = ps.data.numpy().squeeze()\n",
        "\n",
        "    fig, (ax1, ax2) = plt.subplots(figsize=(6,9), ncols=2)\n",
        "    ax1.imshow(img.resize_(1, 28, 28).numpy().squeeze())\n",
        "    ax1.axis('off')\n",
        "    ax2.barh(np.arange(10), ps)\n",
        "    ax2.set_aspect(0.1)\n",
        "    ax2.set_yticks(np.arange(10))\n",
        "    ax2.set_yticklabels(np.arange(10))\n",
        "    ax2.set_title('Class Probability')\n",
        "    ax2.set_xlim(0, 1.1)\n",
        "    plt.tight_layout()"
      ],
      "execution_count": null,
      "outputs": []
    },
    {
      "cell_type": "code",
      "metadata": {
        "id": "IbScg2My2e0_",
        "outputId": "326c3f7f-e134-467d-99d7-fb95ad18fabb",
        "colab": {
          "base_uri": "https://localhost:8080/",
          "height": 270
        }
      },
      "source": [
        "data, labels = next(iter(validation))\n",
        "\n",
        "img = data[0].view(1, 784)\n",
        "with torch.no_grad():\n",
        "    logps = net(img)\n",
        "\n",
        "ps = torch.exp(logps)\n",
        "probab = list(ps.numpy()[0])\n",
        "print(\"Predicted Digit =\", probab.index(max(probab)))\n",
        "view_classify(img.view(1, 28, 28), ps)"
      ],
      "execution_count": null,
      "outputs": [
        {
          "output_type": "stream",
          "text": [
            "Predicted Digit = 7\n"
          ],
          "name": "stdout"
        },
        {
          "output_type": "display_data",
          "data": {
            "image/png": "[encoded data removed]",
            "text/plain": [
              "<Figure size 432x648 with 2 Axes>"
            ]
          },
          "metadata": {
            "tags": [],
            "needs_background": "light"
          }
        }
      ]
    },
    {
      "cell_type": "code",
      "metadata": {
        "id": "luvgwFq83_A0",
        "outputId": "401946c4-65e7-43d4-f052-63744fac04e5",
        "colab": {
          "base_uri": "https://localhost:8080/"
        }
      },
      "source": [
        "correct_count, all_count = 0, 0\n",
        "for data,labels in load_val:\n",
        "  for i in range(len(labels)):\n",
        "    img = data[i].view(1, 784)\n",
        "    with torch.no_grad():\n",
        "        logps = net(img)\n",
        "\n",
        "    \n",
        "    ps = torch.exp(logps)\n",
        "    probab = list(ps.numpy()[0])\n",
        "    pred_label = probab.index(max(probab))\n",
        "    true_label = labels.numpy()[i]\n",
        "    if(true_label == pred_label):\n",
        "      correct_count += 1\n",
        "    all_count += 1\n",
        "\n",
        "print(\"Number Of Images Tested =\", all_count)\n",
        "print(\"\\nModel Accuracy =\", (correct_count/all_count))\n"
      ],
      "execution_count": null,
      "outputs": [
        {
          "output_type": "stream",
          "text": [
            "Number Of Images Tested = 10000\n",
            "\n",
            "Model Accuracy = 0.93\n"
          ],
          "name": "stdout"
        }
      ]
    },
    {
      "cell_type": "code",
      "metadata": {
        "id": "7YeY7qeK3_Dl"
      },
      "source": [
        ""
      ],
      "execution_count": null,
      "outputs": []
    },
    {
      "cell_type": "code",
      "metadata": {
        "id": "xkSJB0vhxRoS"
      },
      "source": [
        "test_data = \n",
        "test_label = "
      ],
      "execution_count": null,
      "outputs": []
    },
    {
      "cell_type": "code",
      "metadata": {
        "id": "k_Sv549quGgu"
      },
      "source": [
        "def eval_on_test_set():\n",
        "\n",
        "    running_error=0\n",
        "    num_batches=0\n",
        "\n",
        "    for i in range(0,2000,bs):\n",
        "\n",
        "        minibatch_data =  test_data[i:i+bs]\n",
        "        minibatch_label= test_label[i:i+bs]\n",
        "\n",
        "        inputs = minibatch_data.view(bs,784)\n",
        "\n",
        "        scores=net( inputs ) \n",
        "\n",
        "        #error = utils.get_error( scores , minibatch_label)\n",
        "\n",
        "        #running_error += error.item()\n",
        "\n",
        "        num_batches+=1\n",
        "\n",
        "\n",
        "    #total_error = running_error/num_batches\n",
        "    #print( 'test error  = ', total_error*100 ,'percent')"
      ],
      "execution_count": null,
      "outputs": []
    },
    {
      "cell_type": "code",
      "metadata": {
        "id": "hCk3fFZDxOBb"
      },
      "source": [
        "test = datasets.MNIST(path_to_download, download=True, train=True, transform=transform)\n",
        "validation = datasets.MNIST(path_to_download, download=True, train=False, transform=transform)\n",
        "load_train = torch.utils.data.DataLoader(train, batch_size=5000, shuffle=True)\n",
        "load_val = torch.utils.data.DataLoader(validation, batch_size=5000, shuffle=True)"
      ],
      "execution_count": null,
      "outputs": []
    },
    {
      "cell_type": "code",
      "metadata": {
        "id": "EzMmb-E-zV6y"
      },
      "source": [
        ""
      ],
      "execution_count": null,
      "outputs": []
    },
    {
      "cell_type": "code",
      "metadata": {
        "id": "wDRU9R__zV91"
      },
      "source": [
        ""
      ],
      "execution_count": null,
      "outputs": []
    },
    {
      "cell_type": "markdown",
      "metadata": {
        "id": "tmS1Mc6ezWV9"
      },
      "source": [
        "# New Method, Tuning hyperparameters"
      ]
    },
    {
      "cell_type": "code",
      "metadata": {
        "id": "12T8Jpu_7aQ3"
      },
      "source": [
        "config = {\n",
        "    \"hidden_layer1\": tune.sample_from(lambda _: 2**np.random.randint(2, 9)),\n",
        "    \"hidden_layer2\": tune.sample_from(lambda _: 2**np.random.randint(2, 9)),\n",
        "    \"lr\": tune.loguniform(1e-4, 1e-1),\n",
        "    \"bs\": tune.choice([32,64,128,192,256])\n",
        "}"
      ],
      "execution_count": 66,
      "outputs": []
    },
    {
      "cell_type": "code",
      "metadata": {
        "id": "eZfvtFHAzYeV"
      },
      "source": [
        "def load_data(data_dir=\"./data\"):\n",
        "    transform = transforms.Compose([\n",
        "        transforms.ToTensor(),\n",
        "        transforms.Normalize((0.5, 0.5, 0.5), (0.5, 0.5, 0.5))\n",
        "    ])\n",
        "\n",
        "    trainset = torchvision.datasets.CIFAR10(\n",
        "        root=data_dir, train=True, download=True, transform=transform)\n",
        "\n",
        "    testset = torchvision.datasets.CIFAR10(\n",
        "        root=data_dir, train=False, download=True, transform=transform)\n",
        "\n",
        "    return trainset, testset"
      ],
      "execution_count": 68,
      "outputs": []
    },
    {
      "cell_type": "code",
      "metadata": {
        "id": "sbjj3WdIMiF1"
      },
      "source": [
        "def load_data(data_dir=\"./data\"):\n",
        "\n",
        "    transform = transforms.Compose([transforms.ToTensor(),\n",
        "                                  transforms.Normalize((0.5,0.5,0.5), (0.5,0.5,0.5)),\n",
        "                                  ])\n",
        "    #train_set = datasets.MNIST(path_to_download, download=True, train=True, transform=transform)\n",
        "    #test_set = datasets.MNIST(path_to_download, download=True, train=False, transform=transform)\n",
        "    \n",
        "    \n",
        "    train_set = torchvision.datasets.MNIST(\n",
        "        root=data_dir, train=True, download=True, transform=transform)\n",
        "\n",
        "    test_set = torchvision.datasets.MNIST(\n",
        "        root=data_dir, train=False, download=True, transform=transform)\n",
        "\n",
        "\n",
        "    #load_train = torch.utils.data.DataLoader(train, batch_size=5000, shuffle=True)\n",
        "    #load_val = torch.utils.data.DataLoader(validation, batch_size=5000, shuffle=True)\n",
        "\n",
        "    return train_set, test_set"
      ],
      "execution_count": 72,
      "outputs": []
    },
    {
      "cell_type": "code",
      "metadata": {
        "id": "vVPPsl3vM8bX"
      },
      "source": [
        ""
      ],
      "execution_count": 72,
      "outputs": []
    },
    {
      "cell_type": "code",
      "metadata": {
        "id": "5W8DqnZWM8jc"
      },
      "source": [
        "class network(nn.Module):\n",
        "  def __init__(self, hidden_size1, hidden_size2):\n",
        "    super(neural_net, self).__init__()\n",
        "\n",
        "    self.layer1 = nn.Linear(784, hidden_size1, bias = True)\n",
        "    self.layer2 = nn.Linear(hidden_size1, hidden_size2, bias = True)\n",
        "    self.layer3 = nn.Linear(hidden_size2, 10, bias = True)\n",
        "\n",
        "\n",
        "  def forward(self, x):\n",
        "        \n",
        "        y = self.layer1(x)\n",
        "        y_hat = torch.relu(y)\n",
        "        z = self.layer2(y_hat)\n",
        "        z_hat = torch.relu(z)\n",
        "        scores = self.layer3(z_hat)\n",
        "        \n",
        "        return scores"
      ],
      "execution_count": 73,
      "outputs": []
    },
    {
      "cell_type": "code",
      "metadata": {
        "id": "V6_aonOl_QlT"
      },
      "source": [
        "class Net(nn.Module):\n",
        "    def __init__(self, l1=120, l2=84):\n",
        "        super(Net, self).__init__()\n",
        "        self.conv1 = nn.Conv2d(3, 6, 5)\n",
        "        self.pool = nn.MaxPool2d(2, 2)\n",
        "        self.conv2 = nn.Conv2d(6, 16, 5)\n",
        "        self.fc1 = nn.Linear(16 * 5 * 5, l1)\n",
        "        self.fc2 = nn.Linear(l1, l2)\n",
        "        self.fc3 = nn.Linear(l2, 10)\n",
        "\n",
        "    def forward(self, x):\n",
        "        x = self.pool(F.relu(self.conv1(x)))\n",
        "        x = self.pool(F.relu(self.conv2(x)))\n",
        "        x = x.view(-1, 16 * 5 * 5)\n",
        "        x = F.relu(self.fc1(x))\n",
        "        x = F.relu(self.fc2(x))\n",
        "        x = self.fc3(x)\n",
        "        return x"
      ],
      "execution_count": 64,
      "outputs": []
    },
    {
      "cell_type": "code",
      "metadata": {
        "id": "lQUFzvlzzd5I"
      },
      "source": [
        "def train_cifar(config, checkpoint_dir=None, data_dir=None):\n",
        "    net = Net(config[\"l1\"], config[\"l2\"])\n",
        "\n",
        "    device = \"cpu\"\n",
        "    if torch.cuda.is_available():\n",
        "        device = \"cuda:0\"\n",
        "        if torch.cuda.device_count() > 1:\n",
        "            net = nn.DataParallel(net)\n",
        "    net.to(device)\n",
        "\n",
        "    criterion = nn.CrossEntropyLoss()\n",
        "    optimizer = optim.SGD(net.parameters(), lr=config[\"lr\"], momentum=0.9)\n",
        "\n",
        "    if checkpoint_dir:\n",
        "        model_state, optimizer_state = torch.load(\n",
        "            os.path.join(checkpoint_dir, \"checkpoint\"))\n",
        "        net.load_state_dict(model_state)\n",
        "        optimizer.load_state_dict(optimizer_state)\n",
        "\n",
        "    train_set, test_set = load_data(data_dir)\n",
        "\n",
        "    test_abs = int(len(train_set) * 0.8)\n",
        "    train_subset, val_subset = random_split(\n",
        "        train_set, [test_abs, len(train_set) - test_abs])\n",
        "\n",
        "    train_loader = torch.utils.data.DataLoader(\n",
        "        train_subset,\n",
        "        batch_size=int(config[\"batch_size\"]),\n",
        "        shuffle=True,\n",
        "        num_workers=8)\n",
        "    valloader = torch.utils.data.DataLoader(\n",
        "        val_subset,\n",
        "        batch_size=int(config[\"batch_size\"]),\n",
        "        shuffle=True,\n",
        "        num_workers=8)\n",
        "\n",
        "    for epoch in range(10):  # loop over the dataset multiple times\n",
        "        running_loss = 0.0\n",
        "        epoch_steps = 0\n",
        "        for i, data in enumerate(train_loader, 0):\n",
        "            # get the inputs; data is a list of [inputs, labels]\n",
        "            inputs, labels = data\n",
        "            inputs, labels = inputs.to(device), labels.to(device)\n",
        "\n",
        "            # zero the parameter gradients\n",
        "            optimizer.zero_grad()\n",
        "\n",
        "            # forward + backward + optimize\n",
        "            outputs = net(inputs)\n",
        "            loss = criterion(outputs, labels)\n",
        "            loss.backward()\n",
        "            optimizer.step()\n",
        "\n",
        "            # print statistics\n",
        "            running_loss += loss.item()\n",
        "            epoch_steps += 1\n",
        "            if i % 2000 == 1999:  # print every 2000 mini-batches\n",
        "                print(\"[%d, %5d] loss: %.3f\" % (epoch + 1, i + 1,\n",
        "                                                running_loss / epoch_steps))\n",
        "                running_loss = 0.0\n",
        "\n",
        "        # Validation loss\n",
        "        val_loss = 0.0\n",
        "        val_steps = 0\n",
        "        total = 0\n",
        "        correct = 0\n",
        "        for i, data in enumerate(valloader, 0):\n",
        "            with torch.no_grad():\n",
        "                inputs, labels = data\n",
        "                inputs, labels = inputs.to(device), labels.to(device)\n",
        "\n",
        "                outputs = net(inputs)\n",
        "                _, predicted = torch.max(outputs.data, 1)\n",
        "                total += labels.size(0)\n",
        "                correct += (predicted == labels).sum().item()\n",
        "\n",
        "                loss = criterion(outputs, labels)\n",
        "                val_loss += loss.cpu().numpy()\n",
        "                val_steps += 1\n",
        "\n",
        "        with tune.checkpoint_dir(epoch) as checkpoint_dir:\n",
        "            path = os.path.join(checkpoint_dir, \"checkpoint\")\n",
        "            torch.save((net.state_dict(), optimizer.state_dict()), path)\n",
        "\n",
        "        tune.report(loss=(val_loss / val_steps), accuracy=correct / total)\n",
        "    print(\"Finished Training\")"
      ],
      "execution_count": 78,
      "outputs": []
    },
    {
      "cell_type": "code",
      "metadata": {
        "id": "oRFjdfdg7M6d"
      },
      "source": [
        "def test_accuracy(net, device=\"cpu\"):\n",
        "    train_set, test_set = load_data()\n",
        "\n",
        "    test_loader = torch.utils.data.DataLoader(\n",
        "        test_set, batch_size=4, shuffle=False, num_workers=2)\n",
        "\n",
        "    correct = 0\n",
        "    total = 0\n",
        "    with torch.no_grad():\n",
        "        for data in testloader:\n",
        "            images, labels = data\n",
        "            images, labels = images.to(device), labels.to(device)\n",
        "            outputs = net(images)\n",
        "            _, predicted = torch.max(outputs.data, 1)\n",
        "            total += labels.size(0)\n",
        "            correct += (predicted == labels).sum().item()\n",
        "\n",
        "    return correct / total"
      ],
      "execution_count": 80,
      "outputs": []
    },
    {
      "cell_type": "code",
      "metadata": {
        "id": "fV7E2nRe-vG7",
        "outputId": "0582a924-26de-4e93-b38f-0c32a62ee687",
        "colab": {
          "base_uri": "https://localhost:8080/"
        }
      },
      "source": [
        "def main(num_samples=60, max_num_epochs=10, gpus_per_trial=2):\n",
        "    data_dir = os.path.abspath(\"./data\")\n",
        "    load_data(data_dir)\n",
        "    config = {\n",
        "        \"l1\": tune.sample_from(lambda _: 2 ** np.random.randint(2, 9)),\n",
        "        \"l2\": tune.sample_from(lambda _: 2 ** np.random.randint(2, 9)),\n",
        "        \"lr\": tune.loguniform(1e-4, 1e-1),\n",
        "        \"batch_size\": tune.choice([2, 4, 8, 16])\n",
        "    }\n",
        "    scheduler = ASHAScheduler(\n",
        "        metric=\"loss\",\n",
        "        mode=\"min\",\n",
        "        max_t=max_num_epochs,\n",
        "        grace_period=1,\n",
        "        reduction_factor=2)\n",
        "    reporter = CLIReporter(\n",
        "        # parameter_columns=[\"l1\", \"l2\", \"lr\", \"batch_size\"],\n",
        "        metric_columns=[\"loss\", \"accuracy\", \"training_iteration\"])\n",
        "    result = tune.run(\n",
        "        partial(train_cifar, data_dir=data_dir),\n",
        "        resources_per_trial={\"cpu\": 2, \"gpu\": gpus_per_trial},\n",
        "        config=config,\n",
        "        num_samples=num_samples,\n",
        "        scheduler=scheduler,\n",
        "        progress_reporter=reporter)\n",
        "\n",
        "    best_trial = result.get_best_trial(\"loss\", \"min\", \"last\")\n",
        "    print(\"Best trial config: {}\".format(best_trial.config))\n",
        "    print(\"Best trial final validation loss: {}\".format(\n",
        "        best_trial.last_result[\"loss\"]))\n",
        "    print(\"Best trial final validation accuracy: {}\".format(\n",
        "        best_trial.last_result[\"accuracy\"]))\n",
        "\n",
        "    best_trained_model = Net(best_trial.config[\"l1\"], best_trial.config[\"l2\"])\n",
        "    device = \"cpu\"\n",
        "    if torch.cuda.is_available():\n",
        "        device = \"cuda:0\"\n",
        "        if gpus_per_trial > 1:\n",
        "            best_trained_model = nn.DataParallel(best_trained_model)\n",
        "    best_trained_model.to(device)\n",
        "\n",
        "    best_checkpoint_dir = best_trial.checkpoint.value\n",
        "    model_state, optimizer_state = torch.load(os.path.join(\n",
        "        best_checkpoint_dir, \"checkpoint\"))\n",
        "    best_trained_model.load_state_dict(model_state)\n",
        "\n",
        "    test_acc = test_accuracy(best_trained_model, device)\n",
        "    print(\"Best trial test set accuracy: {}\".format(test_acc))\n",
        "\n",
        "\n",
        "if __name__ == \"__main__\":\n",
        "    # You can change the number of GPUs per trial here:\n",
        "    main(num_samples=60, max_num_epochs=10, gpus_per_trial=0)"
      ],
      "execution_count": null,
      "outputs": [
        {
          "output_type": "stream",
          "text": [
            "2020-11-14 10:58:50,938\tWARNING experiment.py:274 -- No name detected on trainable. Using DEFAULT.\n",
            "2020-11-14 10:58:50,939\tINFO registry.py:65 -- Detected unknown callable for trainable. Converting to class.\n"
          ],
          "name": "stderr"
        },
        {
          "output_type": "stream",
          "text": [
            "== Status ==\n",
            "Memory usage on this node: 3.5/12.7 GiB\n",
            "Using AsyncHyperBand: num_stopped=0\n",
            "Bracket: Iter 8.000: None | Iter 4.000: None | Iter 2.000: None | Iter 1.000: None\n",
            "Resources requested: 2/2 CPUs, 0/0 GPUs, 0.0/7.18 GiB heap, 0.0/2.44 GiB objects\n",
            "Result logdir: /root/ray_results/DEFAULT_2020-11-14_10-58-50\n",
            "Number of trials: 1/60 (1 RUNNING)\n",
            "+---------------------+----------+-------+--------------+------+------+-------------+\n",
            "| Trial name          | status   | loc   |   batch_size |   l1 |   l2 |          lr |\n",
            "|---------------------+----------+-------+--------------+------+------+-------------|\n",
            "| DEFAULT_60ed3_00000 | RUNNING  |       |            4 |    4 |    4 | 0.000250216 |\n",
            "+---------------------+----------+-------+--------------+------+------+-------------+\n",
            "\n",
            "\n"
          ],
          "name": "stdout"
        }
      ]
    },
    {
      "cell_type": "code",
      "metadata": {
        "id": "47EqUnazGe4m"
      },
      "source": [
        ""
      ],
      "execution_count": null,
      "outputs": []
    },
    {
      "cell_type": "code",
      "metadata": {
        "id": "AH4vP0t5Ge7S"
      },
      "source": [
        ""
      ],
      "execution_count": null,
      "outputs": []
    },
    {
      "cell_type": "code",
      "metadata": {
        "id": "oI9JBtVpGe2P"
      },
      "source": [
        ""
      ],
      "execution_count": null,
      "outputs": []
    }
  ]
}